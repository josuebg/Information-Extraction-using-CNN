{
 "cells": [
  {
   "cell_type": "markdown",
   "metadata": {},
   "source": [
    "## 1. Them\n",
    "## 2. Country\n",
    "## 3. India\n",
    "## 4. Invocation\n",
    "## 5. Past\n",
    "## 6. Future"
   ]
  },
  {
   "cell_type": "code",
   "execution_count": 1,
   "metadata": {},
   "outputs": [],
   "source": [
    "import numpy as np\n",
    "from doc2vec_gensim import doc2vecs\n",
    "from LineSplit import LineSplit"
   ]
  },
  {
   "cell_type": "markdown",
   "metadata": {},
   "source": [
    "## Line Split and Doc2Vec"
   ]
  },
  {
   "cell_type": "code",
   "execution_count": 2,
   "metadata": {},
   "outputs": [
    {
     "name": "stdout",
     "output_type": "stream",
     "text": [
      "1000 epochs completed!\n",
      "Model Saved\n"
     ]
    }
   ],
   "source": [
    "data = LineSplit('./Input_SirAurobindo.txt')\n",
    "limit = 50\n",
    "doc2vecs(data)"
   ]
  },
  {
   "cell_type": "markdown",
   "metadata": {},
   "source": [
    "## Getting Data Ready"
   ]
  },
  {
   "cell_type": "code",
   "execution_count": 3,
   "metadata": {},
   "outputs": [],
   "source": [
    "X = []"
   ]
  },
  {
   "cell_type": "code",
   "execution_count": 4,
   "metadata": {},
   "outputs": [
    {
     "data": {
      "text/plain": [
       "26"
      ]
     },
     "execution_count": 4,
     "metadata": {},
     "output_type": "execute_result"
    }
   ],
   "source": [
    "len(data)"
   ]
  },
  {
   "cell_type": "code",
   "execution_count": 5,
   "metadata": {},
   "outputs": [
    {
     "name": "stdout",
     "output_type": "stream",
     "text": [
      "X shape : (26, 10, 10, 1)\n"
     ]
    }
   ],
   "source": [
    "from gensim.models.doc2vec import Doc2Vec\n",
    "import numpy as np\n",
    "\n",
    "model= Doc2Vec.load(\"d2v.model\")\n",
    "\n",
    "for i in range(0, len(data)): \n",
    "    X.append(model.docvecs[str(i)].reshape(10, 10))    \n",
    "\n",
    "X = np.asarray(X)\n",
    "X = X.reshape(X.shape[0], X.shape[1], X.shape[2], 1)\n",
    "print(f\"X shape : {X.shape}\")"
   ]
  },
  {
   "cell_type": "markdown",
   "metadata": {},
   "source": [
    "## Predicting classes using CNN"
   ]
  },
  {
   "cell_type": "code",
   "execution_count": 6,
   "metadata": {},
   "outputs": [
    {
     "name": "stderr",
     "output_type": "stream",
     "text": [
      "Using TensorFlow backend.\n"
     ]
    },
    {
     "name": "stdout",
     "output_type": "stream",
     "text": [
      "WARNING:tensorflow:From C:\\Users\\Xenon\\Anaconda3\\lib\\site-packages\\keras\\backend\\tensorflow_backend.py:517: The name tf.placeholder is deprecated. Please use tf.compat.v1.placeholder instead.\n",
      "\n",
      "WARNING:tensorflow:From C:\\Users\\Xenon\\Anaconda3\\lib\\site-packages\\keras\\backend\\tensorflow_backend.py:4185: The name tf.truncated_normal is deprecated. Please use tf.random.truncated_normal instead.\n",
      "\n",
      "WARNING:tensorflow:From C:\\Users\\Xenon\\Anaconda3\\lib\\site-packages\\keras\\backend\\tensorflow_backend.py:3976: The name tf.nn.max_pool is deprecated. Please use tf.nn.max_pool2d instead.\n",
      "\n",
      "WARNING:tensorflow:From C:\\Users\\Xenon\\Anaconda3\\lib\\site-packages\\keras\\backend\\tensorflow_backend.py:4138: The name tf.random_uniform is deprecated. Please use tf.random.uniform instead.\n",
      "\n",
      "WARNING:tensorflow:From C:\\Users\\Xenon\\Anaconda3\\lib\\site-packages\\keras\\backend\\tensorflow_backend.py:174: The name tf.get_default_session is deprecated. Please use tf.compat.v1.get_default_session instead.\n",
      "\n",
      "WARNING:tensorflow:From C:\\Users\\Xenon\\Anaconda3\\lib\\site-packages\\keras\\backend\\tensorflow_backend.py:181: The name tf.ConfigProto is deprecated. Please use tf.compat.v1.ConfigProto instead.\n",
      "\n",
      "WARNING:tensorflow:From C:\\Users\\Xenon\\Anaconda3\\lib\\site-packages\\keras\\optimizers.py:790: The name tf.train.Optimizer is deprecated. Please use tf.compat.v1.train.Optimizer instead.\n",
      "\n",
      "WARNING:tensorflow:From C:\\Users\\Xenon\\Anaconda3\\lib\\site-packages\\tensorflow\\python\\ops\\math_grad.py:1250: add_dispatch_support.<locals>.wrapper (from tensorflow.python.ops.array_ops) is deprecated and will be removed in a future version.\n",
      "Instructions for updating:\n",
      "Use tf.where in 2.0, which has the same broadcast rule as np.where\n"
     ]
    }
   ],
   "source": [
    "from keras.models import load_model\n",
    "\n",
    "model = load_model('CNN_model_sirAurobindo.h5')\n",
    "classes = model.predict(X)"
   ]
  },
  {
   "cell_type": "code",
   "execution_count": 7,
   "metadata": {},
   "outputs": [],
   "source": [
    "them = []\n",
    "country = []\n",
    "india = []\n",
    "invocation = []\n",
    "past = []\n",
    "future = []"
   ]
  },
  {
   "cell_type": "code",
   "execution_count": 8,
   "metadata": {},
   "outputs": [],
   "source": [
    "for res in range(len(classes)):\n",
    "    tmp = list(classes[res])\n",
    "    \n",
    "    if tmp.index(max(tmp)) == 0:\n",
    "        them.append(data[res])\n",
    "    elif tmp.index(max(tmp)) == 1:\n",
    "        country.append(data[res])\n",
    "    elif tmp.index(max(tmp)) == 2:\n",
    "        india.append(data[res])\n",
    "    elif tmp.index(max(tmp)) == 3:\n",
    "        invocation.append(data[res])\n",
    "    elif tmp.index(max(tmp)) == 4:\n",
    "        past.append(data[res])\n",
    "    elif tmp.index(max(tmp)) == 5:\n",
    "        future.append(data[res])"
   ]
  },
  {
   "cell_type": "code",
   "execution_count": 17,
   "metadata": {},
   "outputs": [],
   "source": [
    "Final = [them,\n",
    "        country,\n",
    "        india,\n",
    "        invocation,\n",
    "        past,\n",
    "        future]\n",
    "\n",
    "Summary = []"
   ]
  },
  {
   "cell_type": "code",
   "execution_count": 18,
   "metadata": {},
   "outputs": [],
   "source": [
    "for lis in Final:\n",
    "    if len(lis) != 0:\n",
    "        for i in range(0, int(len(lis) * (limit/100))+1):\n",
    "            temp = lis[i].replace(\"$\", \".\")\n",
    "\n",
    "            Summary.append(temp)"
   ]
  },
  {
   "cell_type": "code",
   "execution_count": 19,
   "metadata": {},
   "outputs": [
    {
     "name": "stdout",
     "output_type": "stream",
     "text": [
      "“It is only the Indian who can believe everything, dare everything, sacrifice everything. First, therefore, become Indians. Recover the patrimony of your forefathers. Recover the Aryan thought, the Aryan discipline, the Aryan character, the Aryan life. Recover the Vedanta, the Gita, the Yoga. Recover them not only in intellect or sentiment but in your lives. Live them and you will be great and strong, mighty, invincible and fearless. Neither life nor death will have any terror for you. Difficulty and impossibility will vanish from your vocabularies.” ( Sri Aurobindo )\n",
      "“India is my soul.” ( The Mother )\n",
      "\n",
      "“…India is the only place in the world which is still aware that something else than matter exists. The other countries have quite forgotten it: Europe, America and elsewhere….That is why she still has a message to preserve and deliver to the world. But at present she is splashing and floundering in the muddle. Sri Aurobindo has shown that the truth does not lie in running away from earthly life but in remaining in it, to transform it, divinize it, so that the Divine can manifest HERE, in this PHYSICAL world.” ( The Mother )\n",
      "\n",
      "“India has become the symbolic representation of all the difficulties of modern mankind. India will be the land of its resurrection – the resurrection to a higher and truer life.” ( The Mother )\n",
      "\n",
      "“The West expresses more than it really knows. India knows more than it really can express.” ( The Mother )\n",
      "\n",
      "“I say that it is the Sanatan Dharma which for us is nationalism. This Hindu nation was born with the Sanatan Dharma, with it it moves and with it it grows. When the Sanatan Dharma declines, then the nation declines, and if the Sanatan Dharma were capable of perishing, with the Sanatan Dharma it would perish. The Sanatan Dharma, that is nationalism.” ( Sri Aurobindo )\n",
      "\n",
      "“…why should not India then be the first power in the world? Who else has the undisputed right to extend spiritual sway over the world? This was Swami Vivekananda’s plan of campaign. India can once more be made conscious of her greatness by an overmastering sense of the greatness of her spirituality. This sense of greatness is the main feeder of all patriotism. This only can put an end to all self-depreciation and generate a burning desire to recover the lost ground.” ( Sri Aurobindo )\n",
      "\n",
      "“The spirit of ancient India was aristocratic; its thought and life moulded in the cast of a high and proud nobility, an extreme and lofty strenuousness. The very best in thought, the very best in action, the very best in character, the very best in literature and art, the very best in religion and all the world well lost if only this very best might be attained, such was the spirit of ancient India.” ( Sri Aurobindo )\n",
      "\n",
      "“Whoever has once felt the glory of God within him can never again believe that the intellectis supreme. There is a higher voice, there is a more unfailing oracle. It is in the heart where God resides.He works through the brain, but the brain is only one of His instruments. Whatever the brain may plan, the heart knows first and whoever can go beyond the brain to the heart, will hear the voice of the Eternal.” ( Sri Aurobindo )\n",
      "\n",
      "“Sri Aurobindo always loved deeply his Motherland. But he wished her to be great, noble, pure and worthy of her big mission in the world. He refused to let her sink to the sordid and vulgar level of blind self-interests and ignorant prejudices. This is why, in full conformity to his will, we lift high the standard of truth, progress and transformation of mankind, without caring for those who, through ignorance, stupidity, envy or bad will, seek to soil it and drag it down into the mud. We carry it very high so that all who have a soul may see it and gather round it.” ( The Mother )\n",
      "\n",
      "“India cannot perish, our race cannot become extinct, because among all the divisions of mankind it is to India that is reserved the highest and the most splendid destiny, the most essential to the future of the human race. It is she who must send forth from herself the future religion of the entire world, the Eternal Religion which is to harmonise all religion, science and philosophies and make mankind one soul.” ( Sri Aurobindo )\n",
      "\n",
      "“We are no ordinary race. We are a people ancient as our hills and rivers and we have behind us a history of manifold greatness, not surpassed by any other race. We are the descendents of those who performed tapasya and underwent unheard-of austerities for the sake of spiritual gain and of their own will submitted to all the sufferings of which humanity is capable. We are the children of those mothers who ascended with a smile the funeral pyre that they might follow their husbands to another world. We are people to whom suffering is welcome and who have a spiritual strength within them, greater than any physical force. We are a people in whom God has chosen to manifest Himself more than any other at many great moments of our history.” ( Sri Aurobindo )\n",
      "\n",
      "“India of the ages is not dead nor has she spoken her last creative word; she lives and has still something to do for herself and the human peoples.” ( Sri Aurobindo )\n",
      "\n",
      "“The world waits for the rising of India to receive the divine flood in its fullness.” ( Sri Aurobindo)\n",
      "\n",
      "“Indian culture attached quite as much value to the soundness, growth and strength of the mind, life and body as the old Hellenic or the modern scientific thought, although for a different end and a greater motive. Therefore to everything that serves and belongs to the healthy fullness of these things, it gave free play, to the activity of the reason, to science and philosophy, to the satisfaction of the aesthetic being and to all the many arts great or small, to the health and strength of the body, to the physical and economical well-being, ease, opulence of the race there was never a national ideal of poverty in India as some would have us believe, nor was bareness or squalor the essential setting of her spirituality, – …Their aim was high, but firm and wide too was the base they sought to establish and great the care bestowed on these first instruments.” ( Sri Aurobindo )\n",
      "\n"
     ]
    }
   ],
   "source": [
    "for line in Summary:\n",
    "    print(line)"
   ]
  },
  {
   "cell_type": "code",
   "execution_count": 20,
   "metadata": {},
   "outputs": [],
   "source": [
    "file = open('./summary_sirAurobindo.txt', 'w+', encoding='utf-8')\n",
    "\n",
    "for line in Summary:\n",
    "    file.write(line)\n",
    "file.close()"
   ]
  },
  {
   "cell_type": "code",
   "execution_count": 19,
   "metadata": {},
   "outputs": [
    {
     "data": {
      "text/plain": [
       "97"
      ]
     },
     "execution_count": 19,
     "metadata": {},
     "output_type": "execute_result"
    }
   ],
   "source": [
    "len(data)"
   ]
  },
  {
   "cell_type": "code",
   "execution_count": 14,
   "metadata": {},
   "outputs": [
    {
     "data": {
      "text/plain": [
       "'“…India is the only place in the world which is still aware that something else than matter exists. The other countries have quite forgotten it: Europe, America and elsewhere….That is why she still has a message to preserve and deliver to the world. But at present she is splashing and floundering in the muddle. Sri Aurobindo has shown that the truth does not lie in running away from earthly life but in remaining in it, to transform it, divinize it, so that the Divine can manifest HERE, in this PHYSICAL world.” ( The Mother )\\n.'"
      ]
     },
     "execution_count": 14,
     "metadata": {},
     "output_type": "execute_result"
    }
   ],
   "source": [
    "Summary[2]"
   ]
  },
  {
   "cell_type": "code",
   "execution_count": null,
   "metadata": {},
   "outputs": [],
   "source": []
  }
 ],
 "metadata": {
  "kernelspec": {
   "display_name": "Python 3",
   "language": "python",
   "name": "python3"
  },
  "language_info": {
   "codemirror_mode": {
    "name": "ipython",
    "version": 3
   },
   "file_extension": ".py",
   "mimetype": "text/x-python",
   "name": "python",
   "nbconvert_exporter": "python",
   "pygments_lexer": "ipython3",
   "version": "3.6.9"
  }
 },
 "nbformat": 4,
 "nbformat_minor": 2
}
