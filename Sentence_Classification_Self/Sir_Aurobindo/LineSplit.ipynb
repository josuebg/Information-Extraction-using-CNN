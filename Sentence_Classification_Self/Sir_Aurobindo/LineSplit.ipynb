{
 "cells": [
  {
   "cell_type": "code",
   "execution_count": 1,
   "metadata": {},
   "outputs": [
    {
     "name": "stdout",
     "output_type": "stream",
     "text": [
      "“India is my soul$” ( The Mother )\n",
      " \n",
      "\n",
      "“Sri Aurobindo always loved deeply his Motherland$ But he wished her to be great, noble, pure and worthy of her big mission in the world$ He refused to let her sink to the sordid and vulgar level of blind self-interests and ignorant prejudices$ This is why, in full conformity to his will, we lift high the standard of truth, progress and transformation of mankind, without caring for those who, through ignorance, stupidity, envy or bad will, seek to soil it and drag it down into the mud$ We carry it very high so that all who have a soul may see it and gather round it$” ( The Mother )\n",
      " \n",
      "\n",
      "“…India is the only place in the world which is still aware that something else than matter exists$ The other countries have quite forgotten it: Europe, America and elsewhere…$That is why she still has a message to preserve and deliver to the world$ But at present she is splashing and floundering in the muddle$ Sri Aurobindo has shown that the truth does not lie in running away from earthly life but in remaining in it, to transform it, divinize it, so that the Divine can manifest HERE, in this PHYSICAL world$” ( The Mother )\n",
      " \n",
      "\n",
      "“India has become the symbolic representation of all the difficulties of modern mankind$ India will be the land of its resurrection – the resurrection to a higher and truer life$” ( The Mother )\n",
      " \n",
      "\n",
      "“The West expresses more than it really knows$ India knows more than it really can express$” ( The Mother )\n",
      " \n",
      "\n",
      "“I say that it is the Sanatan Dharma which for us is nationalism$ This Hindu nation was born with the Sanatan Dharma, with it it moves and with it it grows$ When the Sanatan Dharma declines, then the nation declines, and if the Sanatan Dharma were capable of perishing, with the Sanatan Dharma it would perish$ The Sanatan Dharma, that is nationalism$” ( Sri Aurobindo )\n",
      " \n",
      "\n",
      "“India cannot perish, our race cannot become extinct, because among all the divisions of mankind it is to India that is reserved the highest and the most splendid destiny, the most essential to the future of the human race$ It is she who must send forth from herself the future religion of the entire world, the Eternal Religion which is to harmonise all religion, science and philosophies and make mankind one soul$” ( Sri Aurobindo )\n",
      " \n",
      "\n",
      "“We are no ordinary race$ We are a people ancient as our hills and rivers and we have behind us a history of manifold greatness, not surpassed by any other race$ We are the descendents of those who performed tapasya and underwent unheard-of austerities for the sake of spiritual gain and of their own will submitted to all the sufferings of which humanity is capable$ We are the children of those mothers who ascended with a smile the funeral pyre that they might follow their husbands to another world$ We are people to whom suffering is welcome and who have a spiritual strength within them, greater than any physical force$ We are a people in whom God has chosen to manifest Himself more than any other at many great moments of our history$” ( Sri Aurobindo )\n",
      " \n",
      "\n",
      "“India of the ages is not dead nor has she spoken her last creative word; she lives and has still something to do for herself and the human peoples$” ( Sri Aurobindo )\n",
      " \n",
      "\n",
      "“The world waits for the rising of India to receive the divine flood in its fullness$” ( Sri Aurobindo)\n",
      " \n",
      "\n",
      "“Indian culture attached quite as much value to the soundness, growth and strength of the mind, life and body as the old Hellenic or the modern scientific thought, although for a different end and a greater motive$ Therefore to everything that serves and belongs to the healthy fullness of these things, it gave free play, to the activity of the reason, to science and philosophy, to the satisfaction of the aesthetic being and to all the many arts great or small, to the health and strength of the body, to the physical and economical well-being, ease, opulence of the race there was never a national ideal of poverty in India as some would have us believe, nor was bareness or squalor the essential setting of her spirituality, – …Their aim was high, but firm and wide too was the base they sought to establish and great the care bestowed on these first instruments$” ( Sri Aurobindo )\n",
      " \n",
      "\n",
      "“…why should not India then be the first power in the world? Who else has the undisputed right to extend spiritual sway over the world? This was Swami Vivekananda’s plan of campaign$ India can once more be made conscious of her greatness by an overmastering sense of the greatness of her spirituality$ This sense of greatness is the main feeder of all patriotism$ This only can put an end to all self-depreciation and generate a burning desire to recover the lost ground$” ( Sri Aurobindo )\n",
      " \n",
      "\n",
      "“The spirit of ancient India was aristocratic; its thought and life moulded in the cast of a high and proud nobility, an extreme and lofty strenuousness$ The very best in thought, the very best in action, the very best in character, the very best in literature and art, the very best in religion and all the world well lost if only this very best might be attained, such was the spirit of ancient India$” ( Sri Aurobindo )\n",
      " \n",
      "\n",
      "“Buddhism with its high and noble ethics, Jainism with its austere ideal of self-conquest, Hinduism with its magnificent examples of all sides of the Dharma are not inferior in ethical teaching and practice to any religion or system, but rather take the highest rank and have had the strongest effective force$ For the practice of these virtues in older times there is abundant internal and foreign evidence$” ( Sri Aurobindo )\n",
      " \n",
      "\n",
      "“If anyone thinks that we are merely intellectual beings, he is not a Hindu$ Hinduism leaves the glorification of intellectuality to those who have never seen God$ She is commissioned by Him to speak only of his greatness and majesty and she has so spoken for thousands of years$ When we first received a European education, we allowed ourselves to be misled by the light of science$ Science is a light within a limited room, not the sun which illumines the world$ The apara vidya is the sum of science but there is a higher vidya, a mightier knowledge$” ( Sri Aurobindo )\n",
      " \n",
      "\n",
      "“Whoever has once felt the glory of God within him can never again believe that the intellectis supreme$ There is a higher voice, there is a more unfailing oracle$ It is in the heart where God resides$He works through the brain, but the brain is only one of His instruments$ Whatever the brain may plan, the heart knows first and whoever can go beyond the brain to the heart, will hear the voice of the Eternal$” ( Sri Aurobindo )\n",
      " \n",
      "\n",
      "“It will be well when every Indian, instead of taking a waxlike stamp from his foreign surroundings, is able to carry India with him wherever he goes$ For that will mean that India is destined to conquer and place her stamp upon the whole world$” ( Sri Aurobindo )\n",
      " \n",
      "\n",
      "“We need faith above all things, faith in ourselves, faith in the nation, faith in India’s destiny$ A dozen men rendered invincible by a strong faith in their future, have in other times spread the contagion of nationalism to the remotest corner of vast countries$” ( Sri Aurobindo )\n",
      " \n",
      "\n",
      "“India can best develop herself and serve humanity by being herself and following the law of her own nature$ This does not mean, as some narrowly and blindly suppose, the rejection of everything new that comes to us in the stream of Time or happens to have been first developed or powerfully expressed by the West$ Such an attitude would be intellectually absurd, physically impossible, and above all unspiritual; true spirituality rejects no new light, no added means or materials of our human self-development$ It means simply to keep our centre, our essential way of being, our inborn nature and assimilate to it all we receive, and evolve out of it all we do and create$” ( Sri Aurobindo )\n",
      " \n",
      "\n",
      "“I hold that India having a spirit of her own and a governing temperament proper to her own civilisation, should in politics as in everything else strike out her own original path and not stumble in the wake of Europe$” ( Sri Aurobindo )\n",
      " \n",
      "\n",
      "“You need not come back to the old forms, but you can retain the spirit which might create its own new forms,…” ( The Mother )\n",
      " \n",
      "\n",
      "“Our first necessity, if India is to survive and do her appointed work in the world, is that the youth of India should learn to think, – to think on all subjects, to think independently, fruitfully, going to the heart of things, not stopped by their surface, free of prejudgments, shearing sophism and prejudice asunder as with a sharp sword, smiting down obscurantism of all kinds as with the mace of Bhima…” ( Sri Aurobindo )\n",
      " \n",
      "\n",
      "“As Chaitanya ceased to be Nimai Pandit and became Krishna, became Radha, became Balaram, so every one of us must cease to cherish his separate life and live in the nation$ The hope of national regeneration must absorb our minds as the idea of salvation absorbs the mind of the mumuksu$ Our tyaga must be complete as the tyaga of the nameless ascetic… We are still hesitating between ourselves and the country; we would give one anna to the service of the Mother and keep fifteen for ourselves, our wives, our children, our property, our fame and reputation, our safety, our ease$ The Mother asks all before she will give herself$ Not until Surath Raja offered the blood of his veins did the Mother appear to him and ask him to choose his boon$ Not until Shivaji was ready to offer his head at the feet of the Mother, did Bhavani in visible form stay his hand and gave him the command to free his people… Regeneration is literally re-birth, and re-birth comes not by the intellect, not by the fullness of the purse, not by policy, not by change of machinery, but by the getting of a new heart, by throwing away all that we are into the fire of sacrifice and being reborn in the Mother$ Self-abandonment is the demand made upon us$ She asks of us, ‘How many will live for me? How many will die for me?’ and awaits our answer$” ( Sri Aurobindo )\n",
      " \n",
      "\n",
      "“Let us all work for the greatness of India$” ( The Mother )\n",
      " \n",
      "\n",
      "“India is the guru of the nations, the physician of the human soul in its profounder maladies; she is destined once more to new-mould the life of the world and restore the peace of the human spirit$” “The sun of India’s destiny would rise and fill all India with its light and overflow India and overflow Asia and overflow the world$ Every hour, every moment could only bring them nearer to the brightness of the day that God had decreed$”\n",
      " \n",
      "\n",
      "“It is only the Indian who can believe everything, dare everything, sacrifice everything$ First, therefore, become Indians$ Recover the patrimony of your forefathers$ Recover the Aryan thought, the Aryan discipline, the Aryan character, the Aryan life$ Recover the Vedanta, the Gita, the Yoga$ Recover them not only in intellect or sentiment but in your lives$ Live them and you will be great and strong, mighty, invincible and fearless$ Neither life nor death will have any terror for you$ Difficulty and impossibility will vanish from your vocabularies$” ( Sri Aurobindo ) \n",
      "\n"
     ]
    }
   ],
   "source": [
    "import re\n",
    "\n",
    "# reading text file\n",
    "data = open('./Input_SirAurobindo.txt', encoding='utf-8', mode='r')\n",
    "data_lines = data.readlines()\n",
    "\n",
    "# replacing U.S. with US and spliting lines\n",
    "cleaned_data = []\n",
    "\n",
    "for l in range(len(data_lines)):\n",
    "    flag = 0\n",
    "    for i in range(len(data_lines[l])):\n",
    "        try:\n",
    "            if flag == 0 and data_lines[l][i] == \"“\":\n",
    "                flag = 1\n",
    "            elif flag == 1 and data_lines[l][i] == \"”\":\n",
    "                flag = 0\n",
    "\n",
    "            if flag == 1 and data_lines[l][i] == '.':\n",
    "                data_lines[l] = data_lines[l][0:i] + \"$\" + data_lines[l][i+1:]\n",
    "        except:\n",
    "            print(data_lines[l])\n",
    "            break\n",
    "    cleaned_data.append(data_lines[l])\n",
    "        \n",
    "lis = []\n",
    "\n",
    "for line in cleaned_data:\n",
    "    if len(set(line)) > 1:\n",
    "        lis += line.split('.')\n",
    "\n",
    "# removing unwanted elements and putting cleaned line in cleaned_data\n",
    "cleaned_data = []\n",
    "for line in lis:\n",
    "    if len(line) >= 1:\n",
    "        if line[0] == \" \":\n",
    "            line = line[1:]\n",
    "        line = re.sub(r'\\[.*?\\]', \"\", line)\n",
    "        \n",
    "        if line != '\\n':\n",
    "            cleaned_data.append(line)\n",
    "\n",
    "# printing each line of cleaned_data\n",
    "for line in cleaned_data:\n",
    "    print(line, \"\\n\")"
   ]
  },
  {
   "cell_type": "code",
   "execution_count": 2,
   "metadata": {},
   "outputs": [
    {
     "data": {
      "text/plain": [
       "'“India is the guru of the nations, the physician of the human soul in its profounder maladies; she is destined once more to new-mould the life of the world and restore the peace of the human spirit$” “The sun of India’s destiny would rise and fill all India with its light and overflow India and overflow Asia and overflow the world$ Every hour, every moment could only bring them nearer to the brightness of the day that God had decreed$”\\n'"
      ]
     },
     "execution_count": 2,
     "metadata": {},
     "output_type": "execute_result"
    }
   ],
   "source": [
    "cleaned_data[len(cleaned_data)-2]"
   ]
  },
  {
   "cell_type": "code",
   "execution_count": 3,
   "metadata": {},
   "outputs": [
    {
     "name": "stdout",
     "output_type": "stream",
     "text": [
      "He writes, “My experience had taught me that I played best when I worked the hardest$ So I continued to believe that my time would come$ I knew I was a winner$ Being a winner is about what happens in your head$ And I had never lost the belief in myself$ I looked at a cricket ground and believed it was mine$ Looked at the pitch and believed we would win$ Looked at the bat and told myself I would score runs$ I woke up every morning to succeed… When I grow older I don't want to sit on my sofa and tell myself, Sourav, you gave up when the going was tough$ You should have tried harder$ I wanted to catch the bull by its horns and win$”\n"
     ]
    }
   ],
   "source": [
    "line = \"He writes, “My experience had taught me that I played best when I worked the hardest. So I continued to believe that my time would come. I knew I was a winner. Being a winner is about what happens in your head. And I had never lost the belief in myself. I looked at a cricket ground and believed it was mine. Looked at the pitch and believed we would win. Looked at the bat and told myself I would score runs. I woke up every morning to succeed… When I grow older I don't want to sit on my sofa and tell myself, Sourav, you gave up when the going was tough. You should have tried harder. I wanted to catch the bull by its horns and win.”\"\n",
    "flag = 0\n",
    "\n",
    "for i in range(len(line)):\n",
    "    if flag == 0 and line[i] == \"“\":\n",
    "        flag = 1\n",
    "    elif flag == 1 and line[i] == \"“\":\n",
    "        flag = 0\n",
    "        \n",
    "    if flag == 1 and line[i] == '.':\n",
    "        line = line[0:i] + \"$\" + line[i+1:]\n",
    "print(line)"
   ]
  },
  {
   "cell_type": "code",
   "execution_count": 4,
   "metadata": {},
   "outputs": [
    {
     "data": {
      "text/plain": [
       "26"
      ]
     },
     "execution_count": 4,
     "metadata": {},
     "output_type": "execute_result"
    }
   ],
   "source": [
    "len(cleaned_data)"
   ]
  },
  {
   "cell_type": "code",
   "execution_count": 5,
   "metadata": {},
   "outputs": [],
   "source": [
    "from LineSplit import LineSplit\n",
    "data = LineSplit('./Input_SirAurobindo.txt')"
   ]
  },
  {
   "cell_type": "code",
   "execution_count": 6,
   "metadata": {},
   "outputs": [
    {
     "data": {
      "text/plain": [
       "26"
      ]
     },
     "execution_count": 6,
     "metadata": {},
     "output_type": "execute_result"
    }
   ],
   "source": [
    "len(data)"
   ]
  },
  {
   "cell_type": "code",
   "execution_count": null,
   "metadata": {},
   "outputs": [],
   "source": []
  }
 ],
 "metadata": {
  "kernelspec": {
   "display_name": "Python 3",
   "language": "python",
   "name": "python3"
  },
  "language_info": {
   "codemirror_mode": {
    "name": "ipython",
    "version": 3
   },
   "file_extension": ".py",
   "mimetype": "text/x-python",
   "name": "python",
   "nbconvert_exporter": "python",
   "pygments_lexer": "ipython3",
   "version": "3.6.9"
  }
 },
 "nbformat": 4,
 "nbformat_minor": 2
}
