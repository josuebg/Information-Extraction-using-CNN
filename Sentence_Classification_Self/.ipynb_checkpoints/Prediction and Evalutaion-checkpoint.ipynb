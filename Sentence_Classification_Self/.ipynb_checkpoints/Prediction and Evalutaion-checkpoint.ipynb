{
 "cells": [
  {
   "cell_type": "markdown",
   "metadata": {},
   "source": [
    "#### 0 - Abstract\n",
    "#### 1 - Advancements\n",
    "#### 2 - Asia\n",
    "#### 3 - Aftermath\n",
    "#### 4 - Casualities\n",
    "#### 5 - Europe\n",
    "#### 6 - Events\n",
    "#### 7 - Mass_Slaughter"
   ]
  },
  {
   "cell_type": "code",
   "execution_count": 1,
   "metadata": {},
   "outputs": [],
   "source": [
    "import numpy as np\n",
    "from doc2vec_gensim import doc2vecs\n",
    "from LineSplit import LineSplit"
   ]
  },
  {
   "cell_type": "markdown",
   "metadata": {},
   "source": [
    "### LineSplit and Doc2Vec"
   ]
  },
  {
   "cell_type": "code",
   "execution_count": 5,
   "metadata": {},
   "outputs": [
    {
     "name": "stdout",
     "output_type": "stream",
     "text": [
      "1000 epochs completed!\n",
      "Model Saved\n"
     ]
    }
   ],
   "source": [
    "data = LineSplit('./worldwar.txt')\n",
    "doc2vecs(data)"
   ]
  },
  {
   "cell_type": "markdown",
   "metadata": {},
   "source": [
    "### Getting Data Ready"
   ]
  },
  {
   "cell_type": "code",
   "execution_count": 13,
   "metadata": {},
   "outputs": [],
   "source": [
    "X = []"
   ]
  },
  {
   "cell_type": "code",
   "execution_count": 14,
   "metadata": {},
   "outputs": [
    {
     "name": "stdout",
     "output_type": "stream",
     "text": [
      "X shape : (32, 10, 10, 1)\n"
     ]
    }
   ],
   "source": [
    "from gensim.models.doc2vec import Doc2Vec\n",
    "import numpy as np\n",
    "\n",
    "model= Doc2Vec.load(\"d2v.model\")\n",
    "\n",
    "for i in range(0, len(data)): \n",
    "    X.append(model.docvecs[str(i)].reshape(10, 10))    \n",
    "\n",
    "X = np.asarray(X)\n",
    "X = X.reshape(X.shape[0], X.shape[1], X.shape[2], 1)\n",
    "print(f\"X shape : {X.shape}\")"
   ]
  },
  {
   "cell_type": "markdown",
   "metadata": {},
   "source": [
    "### Predicting classes using CNN"
   ]
  },
  {
   "cell_type": "code",
   "execution_count": 15,
   "metadata": {},
   "outputs": [],
   "source": [
    "from keras.models import load_model\n",
    "\n",
    "model = load_model('CNN_model_final.h5')\n",
    "classes = model.predict(X)"
   ]
  },
  {
   "cell_type": "code",
   "execution_count": 16,
   "metadata": {},
   "outputs": [],
   "source": [
    "abstract = []\n",
    "advancements = []\n",
    "asia = []\n",
    "aftermath = []\n",
    "casualities = []\n",
    "europe = []\n",
    "events = []\n",
    "mass_slaughter = []"
   ]
  },
  {
   "cell_type": "code",
   "execution_count": 24,
   "metadata": {},
   "outputs": [],
   "source": [
    "for res in range(len(classes)):\n",
    "    tmp = list(classes[res])\n",
    "    \n",
    "    if tmp.index(max(tmp)) == 0:\n",
    "        abstract.append(data[res])\n",
    "    elif tmp.index(max(tmp)) == 1:\n",
    "        advancements.append(data[res])\n",
    "    elif tmp.index(max(tmp)) == 2:\n",
    "        asia.append(data[res])\n",
    "    elif tmp.index(max(tmp)) == 3:\n",
    "        aftermath.append(data[res])\n",
    "    elif tmp.index(max(tmp)) == 4:\n",
    "        casualities.append(data[res])\n",
    "    elif tmp.index(max(tmp)) == 5:\n",
    "        europe.append(data[res])\n",
    "    elif tmp.index(max(tmp)) == 6:\n",
    "        events.append(data[res])\n",
    "    elif tmp.index(max(tmp)) == 7:\n",
    "        mass_slaughter.append(data[res])"
   ]
  },
  {
   "cell_type": "code",
   "execution_count": 59,
   "metadata": {},
   "outputs": [],
   "source": [
    "Final = [abstract,\n",
    "        advancements,\n",
    "        asia,\n",
    "        aftermath,\n",
    "        casualities,\n",
    "        europe,\n",
    "        events,\n",
    "        mass_slaughter]\n",
    "\n",
    "Summary = []"
   ]
  },
  {
   "cell_type": "code",
   "execution_count": 57,
   "metadata": {},
   "outputs": [],
   "source": [
    "for lis in Final:\n",
    "    for i in range(0, int(len(lis)/2)):\n",
    "        Summary.append(lis[i])"
   ]
  },
  {
   "cell_type": "code",
   "execution_count": 58,
   "metadata": {},
   "outputs": [
    {
     "name": "stdout",
     "output_type": "stream",
     "text": [
      "The major participants threw their entire economic, industrial, and scientific capabilities behind the war effort, blurring the distinction between civilian and military resources\n",
      "World War II was the deadliest conflict in human history, marked by 70 to 85 million fatalities, most of whom were civilians in the Soviet Union and China\n",
      "Japan, which aimed to dominate Asia and the Pacific, was at war with China by 1937, though neither side had declared war on the other\n",
      "From late 1939 to early 1941, in a series of campaigns and treaties, Germany conquered or controlled much of continental Europe, and formed the Axis alliance with Italy and Japan\n",
      "Following the onset of campaigns in North Africa and East Africa, and the Fall of France in mid 1940, the war continued primarily between the European Axis powers and the British Empire\n",
      "On 22 June 1941, the European Axis powers launched an invasion of the Soviet Union, opening the largest land theatre of war in history\n",
      "This Eastern Front trapped the Axis, most crucially the German Wehrmacht, into a war of attrition\n",
      "In December 1941, Japan launched a surprise attack on the United States as well as European colonies in the Pacific\n",
      "Following an immediate US declaration of war against Japan, supported by one from Great Britain, the European Axis powers quickly declared war on the US in solidarity with their Japanese ally\n",
      "World War II (often abbreviated to WWII or WW2), also known as the Second World War, was a global war that lasted from 1939 to 1945\n",
      "The vast majority of the world's countries—including all the great powers—eventually formed two opposing military alliances: the Allies and the Axis\n",
      "A state of total war emerged, directly involving more than 100 million people from over 30 countries\n",
      "It included massacres, the genocide of the Holocaust, strategic bombing, premeditated death from starvation and disease, and the only use of nuclear weapons in war\n",
      "World War II is generally said to have begun on 1 September 1939, with the invasion of Poland by Germany and subsequent declarations of war on Germany by France and the United Kingdom\n"
     ]
    }
   ],
   "source": [
    "for line in Summary:\n",
    "    print(line)"
   ]
  },
  {
   "cell_type": "code",
   "execution_count": 37,
   "metadata": {},
   "outputs": [
    {
     "data": {
      "text/plain": [
       "14"
      ]
     },
     "execution_count": 37,
     "metadata": {},
     "output_type": "execute_result"
    }
   ],
   "source": [
    "len(Summary)"
   ]
  },
  {
   "cell_type": "code",
   "execution_count": 38,
   "metadata": {},
   "outputs": [
    {
     "data": {
      "text/plain": [
       "32"
      ]
     },
     "execution_count": 38,
     "metadata": {},
     "output_type": "execute_result"
    }
   ],
   "source": [
    "len(data)"
   ]
  },
  {
   "cell_type": "code",
   "execution_count": 39,
   "metadata": {},
   "outputs": [
    {
     "data": {
      "text/plain": [
       "['The major participants threw their entire economic, industrial, and scientific capabilities behind the war effort, blurring the distinction between civilian and military resources',\n",
       " 'World War II was the deadliest conflict in human history, marked by 70 to 85 million fatalities, most of whom were civilians in the Soviet Union and China',\n",
       " 'War in the Balkans, the aerial Battle of Britain, the Blitz, and the long Battle of the Atlantic followed',\n",
       " 'The Axis advance in the Pacific halted in 1942 when Japan lost the critical Battle of Midway; later, Germany and Italy were defeated in North Africa and then, decisively, at Stalingrad in the Soviet Union',\n",
       " ' The Soviet Union and United States emerged as rival superpowers, setting the stage for the nearly half-century long Cold War']"
      ]
     },
     "execution_count": 39,
     "metadata": {},
     "output_type": "execute_result"
    }
   ],
   "source": [
    "abstract"
   ]
  },
  {
   "cell_type": "code",
   "execution_count": null,
   "metadata": {},
   "outputs": [],
   "source": []
  }
 ],
 "metadata": {
  "kernelspec": {
   "display_name": "Python 3",
   "language": "python",
   "name": "python3"
  },
  "language_info": {
   "codemirror_mode": {
    "name": "ipython",
    "version": 3
   },
   "file_extension": ".py",
   "mimetype": "text/x-python",
   "name": "python",
   "nbconvert_exporter": "python",
   "pygments_lexer": "ipython3",
   "version": "3.6.9"
  }
 },
 "nbformat": 4,
 "nbformat_minor": 2
}
