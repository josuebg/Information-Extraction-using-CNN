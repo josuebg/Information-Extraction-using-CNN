{
 "cells": [
  {
   "cell_type": "markdown",
   "metadata": {},
   "source": [
    "## 1. Abstract\n",
    "## 2. History\n",
    "## 3. Profile\n",
    "## 4. Career\n",
    "## 5. Captain\n",
    "## 6. Offside\n",
    "## 7. Style\n",
    "## 8. President"
   ]
  },
  {
   "cell_type": "code",
   "execution_count": 1,
   "metadata": {},
   "outputs": [],
   "source": [
    "import numpy as np\n",
    "from doc2vec_gensim import doc2vecs\n",
    "from LineSplit import LineSplit"
   ]
  },
  {
   "cell_type": "markdown",
   "metadata": {},
   "source": [
    "## Line Split and Doc2Vec"
   ]
  },
  {
   "cell_type": "code",
   "execution_count": 2,
   "metadata": {},
   "outputs": [
    {
     "name": "stdout",
     "output_type": "stream",
     "text": [
      "1000 epochs completed!\n",
      "Model Saved\n"
     ]
    }
   ],
   "source": [
    "data = LineSplit('./Input_SauravGaungly.txt')\n",
    "limit = 50\n",
    "doc2vecs(data)"
   ]
  },
  {
   "cell_type": "markdown",
   "metadata": {},
   "source": [
    "## Getting Data Ready"
   ]
  },
  {
   "cell_type": "code",
   "execution_count": 3,
   "metadata": {},
   "outputs": [],
   "source": [
    "X = []"
   ]
  },
  {
   "cell_type": "code",
   "execution_count": 4,
   "metadata": {},
   "outputs": [
    {
     "name": "stdout",
     "output_type": "stream",
     "text": [
      "X shape : (97, 10, 10, 1)\n"
     ]
    }
   ],
   "source": [
    "from gensim.models.doc2vec import Doc2Vec\n",
    "import numpy as np\n",
    "\n",
    "model= Doc2Vec.load(\"d2v.model\")\n",
    "\n",
    "for i in range(0, len(data)): \n",
    "    X.append(model.docvecs[str(i)].reshape(10, 10))    \n",
    "\n",
    "X = np.asarray(X)\n",
    "X = X.reshape(X.shape[0], X.shape[1], X.shape[2], 1)\n",
    "print(f\"X shape : {X.shape}\")"
   ]
  },
  {
   "cell_type": "markdown",
   "metadata": {},
   "source": [
    "## Predicting classes using CNN"
   ]
  },
  {
   "cell_type": "code",
   "execution_count": 6,
   "metadata": {},
   "outputs": [
    {
     "name": "stderr",
     "output_type": "stream",
     "text": [
      "Using TensorFlow backend.\n"
     ]
    },
    {
     "name": "stdout",
     "output_type": "stream",
     "text": [
      "WARNING:tensorflow:From C:\\Users\\Xenon\\Anaconda3\\lib\\site-packages\\keras\\backend\\tensorflow_backend.py:517: The name tf.placeholder is deprecated. Please use tf.compat.v1.placeholder instead.\n",
      "\n",
      "WARNING:tensorflow:From C:\\Users\\Xenon\\Anaconda3\\lib\\site-packages\\keras\\backend\\tensorflow_backend.py:4115: The name tf.random_normal is deprecated. Please use tf.random.normal instead.\n",
      "\n",
      "WARNING:tensorflow:From C:\\Users\\Xenon\\Anaconda3\\lib\\site-packages\\keras\\backend\\tensorflow_backend.py:3976: The name tf.nn.max_pool is deprecated. Please use tf.nn.max_pool2d instead.\n",
      "\n",
      "WARNING:tensorflow:From C:\\Users\\Xenon\\Anaconda3\\lib\\site-packages\\keras\\backend\\tensorflow_backend.py:4138: The name tf.random_uniform is deprecated. Please use tf.random.uniform instead.\n",
      "\n",
      "WARNING:tensorflow:From C:\\Users\\Xenon\\Anaconda3\\lib\\site-packages\\keras\\backend\\tensorflow_backend.py:174: The name tf.get_default_session is deprecated. Please use tf.compat.v1.get_default_session instead.\n",
      "\n",
      "WARNING:tensorflow:From C:\\Users\\Xenon\\Anaconda3\\lib\\site-packages\\keras\\backend\\tensorflow_backend.py:181: The name tf.ConfigProto is deprecated. Please use tf.compat.v1.ConfigProto instead.\n",
      "\n",
      "WARNING:tensorflow:From C:\\Users\\Xenon\\Anaconda3\\lib\\site-packages\\keras\\optimizers.py:790: The name tf.train.Optimizer is deprecated. Please use tf.compat.v1.train.Optimizer instead.\n",
      "\n",
      "WARNING:tensorflow:From C:\\Users\\Xenon\\Anaconda3\\lib\\site-packages\\tensorflow\\python\\ops\\math_grad.py:1250: add_dispatch_support.<locals>.wrapper (from tensorflow.python.ops.array_ops) is deprecated and will be removed in a future version.\n",
      "Instructions for updating:\n",
      "Use tf.where in 2.0, which has the same broadcast rule as np.where\n"
     ]
    }
   ],
   "source": [
    "from keras.models import load_model\n",
    "\n",
    "model = load_model('CNN_model_sauravGaungly.h5')\n",
    "classes = model.predict(X)"
   ]
  },
  {
   "cell_type": "code",
   "execution_count": 7,
   "metadata": {},
   "outputs": [],
   "source": [
    "abstract = []\n",
    "history = []\n",
    "profile = []\n",
    "career = []\n",
    "captain = []\n",
    "offside = []\n",
    "style = []\n",
    "president = []"
   ]
  },
  {
   "cell_type": "code",
   "execution_count": 8,
   "metadata": {},
   "outputs": [],
   "source": [
    "for res in range(len(classes)):\n",
    "    tmp = list(classes[res])\n",
    "    \n",
    "    if tmp.index(max(tmp)) == 0:\n",
    "        abstract.append(data[res])\n",
    "    elif tmp.index(max(tmp)) == 1:\n",
    "        history.append(data[res])\n",
    "    elif tmp.index(max(tmp)) == 2:\n",
    "        profile.append(data[res])\n",
    "    elif tmp.index(max(tmp)) == 3:\n",
    "        career.append(data[res])\n",
    "    elif tmp.index(max(tmp)) == 4:\n",
    "        captain.append(data[res])\n",
    "    elif tmp.index(max(tmp)) == 5:\n",
    "        offside.append(data[res])\n",
    "    elif tmp.index(max(tmp)) == 6:\n",
    "        style.append(data[res])\n",
    "    elif tmp.index(max(tmp)) == 7:\n",
    "        president.append(data[res])"
   ]
  },
  {
   "cell_type": "code",
   "execution_count": 15,
   "metadata": {},
   "outputs": [],
   "source": [
    "Final = [profile,\n",
    "         career,\n",
    "         history,\n",
    "         captain,\n",
    "         offside,\n",
    "         style,\n",
    "         abstract,\n",
    "         president]\n",
    "\n",
    "Summary = []"
   ]
  },
  {
   "cell_type": "code",
   "execution_count": 16,
   "metadata": {},
   "outputs": [],
   "source": [
    "for lis in Final:\n",
    "    if len(lis) != 0:\n",
    "        for i in range(0, int(len(lis) * (limit/100))+1):\n",
    "            Summary.append(lis[i] + \". \")"
   ]
  },
  {
   "cell_type": "code",
   "execution_count": 17,
   "metadata": {},
   "outputs": [
    {
     "name": "stdout",
     "output_type": "stream",
     "text": [
      "Sourav had the knack of unearthing great talent. \n",
      " Virender Sehwag, Yuvraj Singh, Harbhajan Singh, Zaheer Khan — Ganguly made men out of all these boys. \n",
      "He writes, “I have always endorsed a leadership point of view that once you are convinced about someone's class you allow him to blossom despite a few failures. \n",
      "But you need patience. \n",
      "” He reveals how he backed Harbhajan in 2001, when the selectors wanted to drop him. \n",
      "Sourav writes, “I believed in throwing the younger players at the deep end. \n",
      "They wanted to play Sarandeep Singh. \n",
      "But I resisted. \n",
      "Sourav had a few. \n",
      "“Of all the knocks I have seen in my cricketing career, Laxman’s 281 tops the list… Laxman’s partner in Eden was Rahul. \n",
      "” Both Rahul Dravid’s and Laxman’s careers reached dizzying heights under Sourav’s captaincy. \n",
      "His father wanted him to retire, reveals Dada in the book. \n",
      "He writes, “My experience had taught me that I played best when I worked the hardest. \n",
      "I knew I was a winner. \n",
      "Sourav Ganguly is a name that polarised Indian cricket fans like possibly no other. \n",
      "He took it chin up, of course — first as player and then as captain. \n",
      "His greatest legacy, and there is no polarisation here — is that of a leader. \n",
      "He says that in the aftermath of the match-fixing scandal that shocked the nation and the global cricketing fraternity, his well-wishers handed him a copy of former English captain Mike Brearley’s leadership bible — The Art of Captaincy. \n",
      "By the time he hung up his boots, the Ganguly School of Captaincy had become a thing, and one to emulate. \n",
      "What followed was even better. \n",
      "During my years as the Indian captain I have hand-held a few players as well. \n",
      "That three-match series saw him pick up 32 wickets, including a hat trick — the first ever by an Indian in the longer format of the game — at the historic Eden Gardens test. \n",
      "Bhajji for instance. \n",
      "I had seen a spark in Harbhajan and he justified my faith by almost single-handedly winning us the series. \n",
      "”  That match (and that series) is widely believed to have changed Indian cricket forever. \n",
      "Hence, man-management skills are essential in leadership. \n",
      "No interference, no orders. \n",
      "Together they had scored a superb 376. \n",
      "Two years later, Rahul would partner Laxman in Adelaide for another huge triple-century partnership. \n",
      "Sourav’s career hit a roadblock in 2005-06 when he was removed as captain and even dropped from the national team. \n",
      "While he claims an irrefutable place in the pantheon of the game, criticism was a leitmotif in his 12-year-long international career. \n",
      "He charted a new trajectory for Indian cricket and built a team capable enough to traverse that path. \n",
      "In his recently released memoir, A Century Is Not Enough, Sourav reveals everything that happened when he took over as India captain in 2000. \n",
      "He went on to develop his own style of leadership and a very effective one at that. \n",
      "In his five years as captain between 2000 and 2005, he pulled India up from #8 to #2 in the ICC rankings. \n",
      "Even today, Ganguly is called to deliver talks on corporate leadership where he draws parallels from cricket. \n",
      "Each of them went on to have remarkable careers and contributed significantly to India’s victories at home and abroad, and eventually became a part of the team that lifted the World Cup in 2011. \n",
      "Sourav explains a captain’s conviction in his book. \n",
      "We were patient. \n",
      "The better ones did handle themselves, swam their way and beat the odds. \n",
      "The selectors wanted to drop him after the Mumbai test against Australia. \n",
      "A leader can be a control freak. \n",
      "Several leaders lose the plot because they are so. \n",
      "He had identified his on-ground soldiers and would let them be in critical situations. \n",
      "He writes of two such exceptional field marshals in war zones that Team India conquered. \n",
      "I had so much faith in these two that I didn’t send out a single message while they were batting. \n",
      "It was being taught at management schools in India and presented at corporate organisations and events. \n",
      "He would back these players to the hilt, give them enough confidence to fail, and see them evolve into match-winners who could single-handedly take the team home. \n",
      "The off-spinner repaid his captain’s faith with a career-defining series against Australia. \n",
      "I just sat in the dressing room and kept on praying. \n",
      "Not even his own family. \n"
     ]
    }
   ],
   "source": [
    "for line in Summary:\n",
    "    print(line)"
   ]
  },
  {
   "cell_type": "code",
   "execution_count": 18,
   "metadata": {},
   "outputs": [],
   "source": [
    "file = open('./summary_sauravGaungly.txt', 'w+', encoding='utf-8')\n",
    "\n",
    "for line in Summary:\n",
    "    file.write(line)\n",
    "file.close()"
   ]
  },
  {
   "cell_type": "code",
   "execution_count": 19,
   "metadata": {},
   "outputs": [
    {
     "data": {
      "text/plain": [
       "97"
      ]
     },
     "execution_count": 19,
     "metadata": {},
     "output_type": "execute_result"
    }
   ],
   "source": [
    "len(data)"
   ]
  },
  {
   "cell_type": "code",
   "execution_count": null,
   "metadata": {},
   "outputs": [],
   "source": []
  }
 ],
 "metadata": {
  "kernelspec": {
   "display_name": "Python 3",
   "language": "python",
   "name": "python3"
  },
  "language_info": {
   "codemirror_mode": {
    "name": "ipython",
    "version": 3
   },
   "file_extension": ".py",
   "mimetype": "text/x-python",
   "name": "python",
   "nbconvert_exporter": "python",
   "pygments_lexer": "ipython3",
   "version": "3.6.9"
  }
 },
 "nbformat": 4,
 "nbformat_minor": 2
}
