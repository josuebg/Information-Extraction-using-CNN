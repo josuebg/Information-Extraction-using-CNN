{
 "cells": [
  {
   "cell_type": "code",
   "execution_count": 12,
   "metadata": {},
   "outputs": [],
   "source": [
    "from CNN import tCNN"
   ]
  },
  {
   "cell_type": "markdown",
   "metadata": {},
   "source": [
    "### Getting Data"
   ]
  },
  {
   "cell_type": "code",
   "execution_count": 13,
   "metadata": {},
   "outputs": [],
   "source": [
    "import pickle\n",
    "with open('Data_simple.pkl', 'rb') as f:\n",
    "    Final = pickle.load(f)\n",
    "    \n",
    "X = Final[0]\n",
    "Y = Final[1]"
   ]
  },
  {
   "cell_type": "markdown",
   "metadata": {},
   "source": [
    "### Random Shuffle"
   ]
  },
  {
   "cell_type": "code",
   "execution_count": 14,
   "metadata": {},
   "outputs": [],
   "source": [
    "import random\n",
    "\n",
    "XY = list(zip(X, Y))\n",
    "random.shuffle(XY)\n",
    "\n",
    "X, Y = zip(*XY)"
   ]
  },
  {
   "cell_type": "code",
   "execution_count": 15,
   "metadata": {},
   "outputs": [
    {
     "name": "stdout",
     "output_type": "stream",
     "text": [
      "__________________________________________________________________________________________________\n",
      "Layer (type)                    Output Shape         Param #     Connected to                     \n",
      "==================================================================================================\n",
      "input_3 (InputLayer)            (None, 10, 10, 1)    0                                            \n",
      "__________________________________________________________________________________________________\n",
      "conv2d_7 (Conv2D)               (None, 8, 8, 64)     640         input_3[0][0]                    \n",
      "__________________________________________________________________________________________________\n",
      "conv2d_8 (Conv2D)               (None, 8, 8, 64)     640         input_3[0][0]                    \n",
      "__________________________________________________________________________________________________\n",
      "conv2d_9 (Conv2D)               (None, 8, 8, 64)     640         input_3[0][0]                    \n",
      "__________________________________________________________________________________________________\n",
      "max_pooling2d_7 (MaxPooling2D)  (None, 7, 7, 64)     0           conv2d_7[0][0]                   \n",
      "__________________________________________________________________________________________________\n",
      "max_pooling2d_8 (MaxPooling2D)  (None, 7, 7, 64)     0           conv2d_8[0][0]                   \n",
      "__________________________________________________________________________________________________\n",
      "max_pooling2d_9 (MaxPooling2D)  (None, 7, 7, 64)     0           conv2d_9[0][0]                   \n",
      "__________________________________________________________________________________________________\n",
      "concatenate_3 (Concatenate)     (None, 21, 7, 64)    0           max_pooling2d_7[0][0]            \n",
      "                                                                 max_pooling2d_8[0][0]            \n",
      "                                                                 max_pooling2d_9[0][0]            \n",
      "__________________________________________________________________________________________________\n",
      "flatten_3 (Flatten)             (None, 9408)         0           concatenate_3[0][0]              \n",
      "__________________________________________________________________________________________________\n",
      "dense_3 (Dense)                 (None, 8)            75272       flatten_3[0][0]                  \n",
      "==================================================================================================\n",
      "Total params: 77,192\n",
      "Trainable params: 77,192\n",
      "Non-trainable params: 0\n",
      "__________________________________________________________________________________________________\n",
      "Model Saved!\n"
     ]
    },
    {
     "data": {
      "image/png": "[encoded data removed]",
      "text/plain": [
       "<IPython.core.display.Image object>"
      ]
     },
     "execution_count": 15,
     "metadata": {},
     "output_type": "execute_result"
    }
   ],
   "source": [
    "tCNN()\n",
    "\n",
    "\n",
    "from keras.utils import plot_model\n",
    "from IPython.display import Image\n",
    "from keras.models import load_model\n",
    "\n",
    "model = load_model('CNN_model_init.h5')\n",
    "plot_model(model, to_file='CNN_arch.png')\n",
    "Image(filename='./CNN_arch.png')"
   ]
  },
  {
   "cell_type": "markdown",
   "metadata": {},
   "source": [
    "## Reshaping array"
   ]
  },
  {
   "cell_type": "code",
   "execution_count": 16,
   "metadata": {},
   "outputs": [
    {
     "name": "stdout",
     "output_type": "stream",
     "text": [
      "X shape : (169, 10, 10, 1)\n",
      "Y shape : (169, 1)\n"
     ]
    }
   ],
   "source": [
    "import numpy as np\n",
    "\n",
    "X = np.asarray(X)\n",
    "Y = np.asarray(Y)\n",
    "\n",
    "X = X.reshape(X.shape[0], X.shape[1], X.shape[2], 1)\n",
    "Y = Y.reshape(Y.shape[0], 1)\n",
    "\n",
    "print(f\"X shape : {X.shape}\\nY shape : {Y.shape}\")"
   ]
  },
  {
   "cell_type": "code",
   "execution_count": 17,
   "metadata": {},
   "outputs": [],
   "source": [
    "x_train = X[0:140]\n",
    "y_train = Y[0:140]\n",
    "\n",
    "x_test = X[140:]\n",
    "y_test = Y[140:]"
   ]
  },
  {
   "cell_type": "markdown",
   "metadata": {},
   "source": [
    "### Training Model"
   ]
  },
  {
   "cell_type": "code",
   "execution_count": 18,
   "metadata": {},
   "outputs": [
    {
     "name": "stdout",
     "output_type": "stream",
     "text": [
      "Train on 140 samples, validate on 29 samples\n",
      "Epoch 1/1000\n",
      "140/140 [==============================] - 2s 15ms/step - loss: 2.0294 - acc: 0.1500 - val_loss: 1.8704 - val_acc: 0.1724\n",
      "Epoch 2/1000\n",
      "140/140 [==============================] - 0s 605us/step - loss: 1.8271 - acc: 0.2214 - val_loss: 1.7198 - val_acc: 0.2759\n",
      "Epoch 3/1000\n",
      "140/140 [==============================] - 0s 486us/step - loss: 1.6708 - acc: 0.4214 - val_loss: 1.5809 - val_acc: 0.5172\n",
      "Epoch 4/1000\n",
      "140/140 [==============================] - 0s 561us/step - loss: 1.5024 - acc: 0.7857 - val_loss: 1.4826 - val_acc: 0.7931\n",
      "Epoch 5/1000\n",
      "140/140 [==============================] - 0s 561us/step - loss: 1.3728 - acc: 0.8714 - val_loss: 1.3807 - val_acc: 0.8276\n",
      "Epoch 6/1000\n",
      "140/140 [==============================] - 0s 732us/step - loss: 1.2580 - acc: 0.9000 - val_loss: 1.2615 - val_acc: 0.8621\n",
      "\n",
      "Reached 90% accuracy so cancelling training!\n",
      "Model Saved!\n"
     ]
    }
   ],
   "source": [
    "# callback function\n",
    "import keras\n",
    "class myCallback(keras.callbacks.Callback):\n",
    "    def on_epoch_end(self, epoch, logs={}):\n",
    "        if(logs.get('acc')>0.90):\n",
    "            print(\"\\nReached 90% accuracy so cancelling training!\")\n",
    "            self.model.stop_training = True\n",
    "        \n",
    "callback = myCallback()\n",
    "\n",
    "model.fit(x_train, y_train,\n",
    "          epochs=1000,\n",
    "          verbose=1,\n",
    "          validation_data=(x_test, y_test),\n",
    "          callbacks=[callback])\n",
    "\n",
    "try:\n",
    "    model.save('CNN_model_final.h5')\n",
    "    print(\"Model Saved!\")\n",
    "except:\n",
    "    print(\"Error in saving Model\")"
   ]
  },
  {
   "cell_type": "code",
   "execution_count": 19,
   "metadata": {},
   "outputs": [
    {
     "data": {
      "text/plain": [
       "[1.261522889137268, 0.8620689511299133]"
      ]
     },
     "execution_count": 19,
     "metadata": {},
     "output_type": "execute_result"
    }
   ],
   "source": [
    "score = model.evaluate(x_test, y_test, verbose=0)\n",
    "score"
   ]
  },
  {
   "cell_type": "code",
   "execution_count": 20,
   "metadata": {},
   "outputs": [
    {
     "name": "stdout",
     "output_type": "stream",
     "text": [
      "[[0.24844752 0.11173458 0.02410917 0.18920831 0.12304693 0.11975721\n",
      "  0.09447797 0.08921827]\n",
      " [0.08876543 0.18047656 0.00203637 0.08879018 0.17165126 0.02849277\n",
      "  0.4254962  0.01429127]\n",
      " [0.14377874 0.3120512  0.01930956 0.14117007 0.09490353 0.12525105\n",
      "  0.08832876 0.07520702]\n",
      " [0.10993318 0.08352124 0.0060942  0.23504469 0.4517394  0.05962149\n",
      "  0.04400111 0.01004469]\n",
      " [0.07641075 0.11799919 0.00372739 0.06235945 0.5733514  0.03493585\n",
      "  0.06380854 0.06740747]\n",
      " [0.11362144 0.17252599 0.02758099 0.3223321  0.07152142 0.11342604\n",
      "  0.08228314 0.09670884]\n",
      " [0.02417673 0.0296894  0.00175219 0.02407448 0.8600627  0.01081086\n",
      "  0.04069169 0.00874197]\n",
      " [0.13525473 0.12284777 0.02876994 0.14820829 0.11920944 0.23890442\n",
      "  0.11591115 0.09089424]\n",
      " [0.0548518  0.04826887 0.00168791 0.19322947 0.5810475  0.05601875\n",
      "  0.05802653 0.00686923]\n",
      " [0.14776288 0.15688528 0.03847481 0.20997465 0.08485123 0.17370701\n",
      "  0.10769492 0.0806492 ]\n",
      " [0.23662004 0.16510227 0.019      0.18217492 0.1126828  0.12665376\n",
      "  0.08175685 0.0760094 ]\n",
      " [0.1658268  0.16845389 0.02398737 0.29896486 0.08567116 0.10653117\n",
      "  0.05859956 0.09196526]\n",
      " [0.14313275 0.11681221 0.08975145 0.15479961 0.10539257 0.13935061\n",
      "  0.11292386 0.13783696]\n",
      " [0.1433684  0.1300896  0.03590218 0.23979159 0.11515358 0.11935649\n",
      "  0.101833   0.11450516]\n",
      " [0.12220051 0.1455694  0.02856578 0.12620711 0.1077688  0.22972332\n",
      "  0.11395445 0.12601069]\n",
      " [0.15872455 0.12561738 0.01903551 0.36790162 0.09309871 0.10614207\n",
      "  0.0555434  0.0739368 ]\n",
      " [0.3140371  0.14820163 0.02227555 0.13108101 0.08880535 0.09006869\n",
      "  0.08339266 0.12213799]\n",
      " [0.15345535 0.2910731  0.02741922 0.12117451 0.09397437 0.10733163\n",
      "  0.09047174 0.11510015]\n",
      " [0.03423562 0.02058641 0.00146832 0.03965312 0.84682107 0.01555808\n",
      "  0.03953144 0.00214591]\n",
      " [0.11502109 0.13503876 0.03841174 0.21608153 0.0854724  0.14287068\n",
      "  0.11050436 0.15659952]\n",
      " [0.11374654 0.15700683 0.03002029 0.19889465 0.09989348 0.2426537\n",
      "  0.069286   0.08849857]\n",
      " [0.15007319 0.06647024 0.00363204 0.18195708 0.04965905 0.0504362\n",
      "  0.47322613 0.02454607]\n",
      " [0.15502241 0.35743824 0.01808595 0.10224605 0.07900625 0.10453539\n",
      "  0.09079847 0.09286721]\n",
      " [0.11661689 0.16576642 0.0204947  0.14796063 0.08884042 0.2894917\n",
      "  0.07088002 0.09994914]\n",
      " [0.14429241 0.20524932 0.00338475 0.150415   0.32337946 0.05739159\n",
      "  0.10030939 0.01557806]\n",
      " [0.15573342 0.15083127 0.03877699 0.14213389 0.08805034 0.12311639\n",
      "  0.10042858 0.20092914]\n",
      " [0.16453536 0.1101142  0.02695602 0.32860422 0.08375619 0.1061235\n",
      "  0.07874212 0.10116837]\n",
      " [0.13953668 0.10966907 0.06913145 0.1701725  0.09207137 0.15912078\n",
      "  0.12026973 0.14002842]\n",
      " [0.20949107 0.07442529 0.01242684 0.11026221 0.06673375 0.13326061\n",
      "  0.05593492 0.3374653 ]]\n"
     ]
    }
   ],
   "source": [
    "classes = model.predict(x_test)\n",
    "print(classes)"
   ]
  },
  {
   "cell_type": "code",
   "execution_count": 21,
   "metadata": {},
   "outputs": [
    {
     "data": {
      "text/plain": [
       "(29, 8)"
      ]
     },
     "execution_count": 21,
     "metadata": {},
     "output_type": "execute_result"
    }
   ],
   "source": [
    "classes.shape"
   ]
  },
  {
   "cell_type": "code",
   "execution_count": 22,
   "metadata": {},
   "outputs": [
    {
     "data": {
      "text/plain": [
       "(29, 10, 10, 1)"
      ]
     },
     "execution_count": 22,
     "metadata": {},
     "output_type": "execute_result"
    }
   ],
   "source": [
    "x_test.shape"
   ]
  },
  {
   "cell_type": "code",
   "execution_count": 23,
   "metadata": {},
   "outputs": [
    {
     "data": {
      "text/plain": [
       "array([0])"
      ]
     },
     "execution_count": 23,
     "metadata": {},
     "output_type": "execute_result"
    }
   ],
   "source": [
    "y_test[0]"
   ]
  },
  {
   "cell_type": "code",
   "execution_count": null,
   "metadata": {},
   "outputs": [],
   "source": []
  }
 ],
 "metadata": {
  "kernelspec": {
   "display_name": "Python 3",
   "language": "python",
   "name": "python3"
  },
  "language_info": {
   "codemirror_mode": {
    "name": "ipython",
    "version": 3
   },
   "file_extension": ".py",
   "mimetype": "text/x-python",
   "name": "python",
   "nbconvert_exporter": "python",
   "pygments_lexer": "ipython3",
   "version": "3.6.9"
  }
 },
 "nbformat": 4,
 "nbformat_minor": 2
}
