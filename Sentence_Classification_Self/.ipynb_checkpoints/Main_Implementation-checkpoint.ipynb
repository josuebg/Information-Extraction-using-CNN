{
 "cells": [
  {
   "cell_type": "code",
   "execution_count": 1,
   "metadata": {},
   "outputs": [],
   "source": [
    "from CNN import tCNN"
   ]
  },
  {
   "cell_type": "markdown",
   "metadata": {},
   "source": [
    "### Getting Data"
   ]
  },
  {
   "cell_type": "code",
   "execution_count": 2,
   "metadata": {},
   "outputs": [],
   "source": [
    "import pickle\n",
    "with open('Data_simple.pkl', 'rb') as f:\n",
    "    Final = pickle.load(f)\n",
    "    \n",
    "X = Final[0]\n",
    "Y = Final[1]"
   ]
  },
  {
   "cell_type": "markdown",
   "metadata": {},
   "source": [
    "### Random Shuffle"
   ]
  },
  {
   "cell_type": "code",
   "execution_count": 3,
   "metadata": {},
   "outputs": [],
   "source": [
    "import random\n",
    "\n",
    "XY = list(zip(X, Y))\n",
    "random.shuffle(XY)\n",
    "\n",
    "X, Y = zip(*XY)"
   ]
  },
  {
   "cell_type": "code",
   "execution_count": 4,
   "metadata": {},
   "outputs": [
    {
     "name": "stderr",
     "output_type": "stream",
     "text": [
      "Using TensorFlow backend.\n"
     ]
    },
    {
     "name": "stdout",
     "output_type": "stream",
     "text": [
      "WARNING:tensorflow:From C:\\Users\\Xenon\\Anaconda3\\lib\\site-packages\\keras\\backend\\tensorflow_backend.py:74: The name tf.get_default_graph is deprecated. Please use tf.compat.v1.get_default_graph instead.\n",
      "\n",
      "WARNING:tensorflow:From C:\\Users\\Xenon\\Anaconda3\\lib\\site-packages\\keras\\backend\\tensorflow_backend.py:517: The name tf.placeholder is deprecated. Please use tf.compat.v1.placeholder instead.\n",
      "\n",
      "WARNING:tensorflow:From C:\\Users\\Xenon\\Anaconda3\\lib\\site-packages\\keras\\backend\\tensorflow_backend.py:4115: The name tf.random_normal is deprecated. Please use tf.random.normal instead.\n",
      "\n",
      "WARNING:tensorflow:From C:\\Users\\Xenon\\Anaconda3\\lib\\site-packages\\keras\\backend\\tensorflow_backend.py:3976: The name tf.nn.max_pool is deprecated. Please use tf.nn.max_pool2d instead.\n",
      "\n",
      "WARNING:tensorflow:From C:\\Users\\Xenon\\Anaconda3\\lib\\site-packages\\keras\\backend\\tensorflow_backend.py:4138: The name tf.random_uniform is deprecated. Please use tf.random.uniform instead.\n",
      "\n",
      "WARNING:tensorflow:From C:\\Users\\Xenon\\Anaconda3\\lib\\site-packages\\keras\\optimizers.py:790: The name tf.train.Optimizer is deprecated. Please use tf.compat.v1.train.Optimizer instead.\n",
      "\n",
      "WARNING:tensorflow:From C:\\Users\\Xenon\\Anaconda3\\lib\\site-packages\\keras\\backend\\tensorflow_backend.py:3341: The name tf.log is deprecated. Please use tf.math.log instead.\n",
      "\n",
      "__________________________________________________________________________________________________\n",
      "Layer (type)                    Output Shape         Param #     Connected to                     \n",
      "==================================================================================================\n",
      "input_1 (InputLayer)            (None, 10, 10, 1)    0                                            \n",
      "__________________________________________________________________________________________________\n",
      "conv2d_1 (Conv2D)               (None, 8, 8, 64)     640         input_1[0][0]                    \n",
      "__________________________________________________________________________________________________\n",
      "conv2d_2 (Conv2D)               (None, 8, 8, 64)     640         input_1[0][0]                    \n",
      "__________________________________________________________________________________________________\n",
      "conv2d_3 (Conv2D)               (None, 8, 8, 64)     640         input_1[0][0]                    \n",
      "__________________________________________________________________________________________________\n",
      "max_pooling2d_1 (MaxPooling2D)  (None, 7, 7, 64)     0           conv2d_1[0][0]                   \n",
      "__________________________________________________________________________________________________\n",
      "max_pooling2d_2 (MaxPooling2D)  (None, 7, 7, 64)     0           conv2d_2[0][0]                   \n",
      "__________________________________________________________________________________________________\n",
      "max_pooling2d_3 (MaxPooling2D)  (None, 7, 7, 64)     0           conv2d_3[0][0]                   \n",
      "__________________________________________________________________________________________________\n",
      "concatenate_1 (Concatenate)     (None, 21, 7, 64)    0           max_pooling2d_1[0][0]            \n",
      "                                                                 max_pooling2d_2[0][0]            \n",
      "                                                                 max_pooling2d_3[0][0]            \n",
      "__________________________________________________________________________________________________\n",
      "flatten_1 (Flatten)             (None, 9408)         0           concatenate_1[0][0]              \n",
      "__________________________________________________________________________________________________\n",
      "dense_1 (Dense)                 (None, 8)            75272       flatten_1[0][0]                  \n",
      "==================================================================================================\n",
      "Total params: 77,192\n",
      "Trainable params: 77,192\n",
      "Non-trainable params: 0\n",
      "__________________________________________________________________________________________________\n",
      "Model Saved!\n"
     ]
    },
    {
     "data": {
      "image/png": "[encoded data removed]",
      "text/plain": [
       "<IPython.core.display.Image object>"
      ]
     },
     "execution_count": 4,
     "metadata": {},
     "output_type": "execute_result"
    }
   ],
   "source": [
    "tCNN()\n",
    "\n",
    "\n",
    "from keras.utils import plot_model\n",
    "from IPython.display import Image\n",
    "from keras.models import load_model\n",
    "\n",
    "model = load_model('CNN_model_init.h5')\n",
    "plot_model(model, to_file='multiple_inputs.png')\n",
    "Image(filename='./cnn_arch.png')"
   ]
  },
  {
   "cell_type": "markdown",
   "metadata": {},
   "source": [
    "## Reshaping array"
   ]
  },
  {
   "cell_type": "code",
   "execution_count": 5,
   "metadata": {},
   "outputs": [
    {
     "name": "stdout",
     "output_type": "stream",
     "text": [
      "X shape : (169, 10, 10, 1)\n",
      "Y shape : (169, 1)\n"
     ]
    }
   ],
   "source": [
    "import numpy as np\n",
    "\n",
    "X = np.asarray(X)\n",
    "Y = np.asarray(Y)\n",
    "\n",
    "X = X.reshape(X.shape[0], X.shape[1], X.shape[2], 1)\n",
    "Y = Y.reshape(Y.shape[0], 1)\n",
    "\n",
    "print(f\"X shape : {X.shape}\\nY shape : {Y.shape}\")"
   ]
  },
  {
   "cell_type": "code",
   "execution_count": 6,
   "metadata": {},
   "outputs": [],
   "source": [
    "x_train = X[0:140]\n",
    "y_train = Y[0:140]\n",
    "\n",
    "x_test = X[140:]\n",
    "y_test = Y[140:]"
   ]
  },
  {
   "cell_type": "markdown",
   "metadata": {},
   "source": [
    "### Training Model"
   ]
  },
  {
   "cell_type": "code",
   "execution_count": 7,
   "metadata": {},
   "outputs": [
    {
     "name": "stdout",
     "output_type": "stream",
     "text": [
      "WARNING:tensorflow:From C:\\Users\\Xenon\\Anaconda3\\lib\\site-packages\\tensorflow\\python\\ops\\math_grad.py:1250: add_dispatch_support.<locals>.wrapper (from tensorflow.python.ops.array_ops) is deprecated and will be removed in a future version.\n",
      "Instructions for updating:\n",
      "Use tf.where in 2.0, which has the same broadcast rule as np.where\n",
      "Train on 140 samples, validate on 29 samples\n",
      "Epoch 1/1000\n",
      "140/140 [==============================] - 1s 7ms/step - loss: 1.9833 - acc: 0.2500 - val_loss: 1.9693 - val_acc: 0.1724\n",
      "Epoch 2/1000\n",
      "140/140 [==============================] - 0s 321us/step - loss: 1.7759 - acc: 0.1929 - val_loss: 1.7868 - val_acc: 0.2759\n",
      "Epoch 3/1000\n",
      "140/140 [==============================] - 0s 321us/step - loss: 1.6074 - acc: 0.5500 - val_loss: 1.6114 - val_acc: 0.5862\n",
      "Epoch 4/1000\n",
      "140/140 [==============================] - 0s 313us/step - loss: 1.4546 - acc: 0.7143 - val_loss: 1.4606 - val_acc: 0.7241\n",
      "Epoch 5/1000\n",
      "140/140 [==============================] - 0s 370us/step - loss: 1.3310 - acc: 0.8214 - val_loss: 1.3154 - val_acc: 0.7931\n",
      "Epoch 6/1000\n",
      "140/140 [==============================] - 0s 434us/step - loss: 1.2085 - acc: 0.8643 - val_loss: 1.2162 - val_acc: 0.7931\n",
      "Epoch 7/1000\n",
      "140/140 [==============================] - 0s 370us/step - loss: 1.1026 - acc: 0.8786 - val_loss: 1.1228 - val_acc: 0.8966\n",
      "Epoch 8/1000\n",
      "140/140 [==============================] - 0s 313us/step - loss: 1.0048 - acc: 0.8857 - val_loss: 1.0321 - val_acc: 0.8966\n",
      "Epoch 9/1000\n",
      "140/140 [==============================] - 0s 370us/step - loss: 0.9191 - acc: 0.9071 - val_loss: 0.9542 - val_acc: 0.8966\n",
      "Epoch 10/1000\n",
      "140/140 [==============================] - 0s 349us/step - loss: 0.8447 - acc: 0.9643 - val_loss: 0.8654 - val_acc: 0.9310\n",
      "Epoch 11/1000\n",
      "140/140 [==============================] - 0s 328us/step - loss: 0.7774 - acc: 0.9929 - val_loss: 0.7988 - val_acc: 0.9655\n",
      "\n",
      "Reached 90% accuracy so cancelling training!\n",
      "Model Saved!\n"
     ]
    }
   ],
   "source": [
    "# callback function\n",
    "import keras\n",
    "class myCallback(keras.callbacks.Callback):\n",
    "    def on_epoch_end(self, epoch, logs={}):\n",
    "        if(logs.get('acc')>0.99):\n",
    "            print(\"\\nReached 90% accuracy so cancelling training!\")\n",
    "            self.model.stop_training = True\n",
    "        \n",
    "callback = myCallback()\n",
    "\n",
    "model.fit(x_train, y_train,\n",
    "          epochs=1000,\n",
    "          verbose=1,\n",
    "          validation_data=(x_test, y_test),\n",
    "          callbacks=[callback])\n",
    "\n",
    "try:\n",
    "    model.save('CNN_model_final.h5')\n",
    "    print(\"Model Saved!\")\n",
    "except:\n",
    "    print(\"Error in saving Model\")"
   ]
  },
  {
   "cell_type": "code",
   "execution_count": 8,
   "metadata": {},
   "outputs": [
    {
     "data": {
      "text/plain": [
       "[0.7987649440765381, 0.9655172228813171]"
      ]
     },
     "execution_count": 8,
     "metadata": {},
     "output_type": "execute_result"
    }
   ],
   "source": [
    "score = model.evaluate(x_test, y_test, verbose=0)\n",
    "score"
   ]
  },
  {
   "cell_type": "code",
   "execution_count": 10,
   "metadata": {},
   "outputs": [
    {
     "name": "stdout",
     "output_type": "stream",
     "text": [
      "[[4.17448640e-01 8.68216604e-02 6.00944422e-02 1.50772139e-01\n",
      "  5.34963533e-02 8.06747377e-02 7.37188011e-02 7.69732073e-02]\n",
      " [1.18439138e-01 1.40556991e-01 7.60767758e-02 1.24147564e-01\n",
      "  2.27607563e-02 7.22451583e-02 3.03066820e-02 4.15466875e-01]\n",
      " [3.91145378e-01 1.12035938e-01 6.75231069e-02 1.69755742e-01\n",
      "  5.62164113e-02 7.79852793e-02 6.24315329e-02 6.29066378e-02]\n",
      " [1.85485072e-02 6.28958866e-02 4.85937530e-03 4.86441739e-02\n",
      "  8.38083982e-01 7.68901128e-03 1.17819142e-02 7.49720866e-03]\n",
      " [1.11916915e-01 1.39105022e-01 5.79834096e-02 1.20285250e-01\n",
      "  2.85602976e-02 4.30465072e-01 5.57192825e-02 5.59647605e-02]\n",
      " [1.29010843e-03 1.52490637e-03 2.03180491e-04 2.43821717e-03\n",
      "  9.90638375e-01 5.13409963e-04 3.28244898e-03 1.09408393e-04]\n",
      " [6.96357489e-02 5.15698716e-02 9.74242669e-03 4.05293480e-02\n",
      "  5.82633726e-02 8.42722785e-03 7.47965813e-01 1.38661098e-02]\n",
      " [1.58046275e-01 3.90302002e-01 3.98891866e-02 1.27455860e-01\n",
      "  6.10739291e-02 8.02813247e-02 6.83097169e-02 7.46416524e-02]\n",
      " [1.57685235e-01 1.17649443e-01 5.86197823e-02 1.47715554e-01\n",
      "  3.44312489e-02 1.00778095e-01 3.39616425e-02 3.49158943e-01]\n",
      " [1.09061301e-01 4.78758216e-01 3.60626020e-02 1.55687377e-01\n",
      "  5.46049438e-02 6.68147877e-02 4.73401211e-02 5.16705923e-02]\n",
      " [1.21705040e-01 3.81474316e-01 6.55749142e-02 1.38217121e-01\n",
      "  5.70565052e-02 8.75095874e-02 7.49301314e-02 7.35323504e-02]\n",
      " [1.38887733e-01 1.32008359e-01 6.95900023e-02 3.12957734e-01\n",
      "  7.71723241e-02 1.02527581e-01 6.03959598e-02 1.06460229e-01]\n",
      " [4.31449637e-02 2.27404702e-02 1.26851331e-02 1.93335004e-02\n",
      "  7.54917506e-03 1.84665322e-02 8.62631023e-01 1.34492507e-02]\n",
      " [1.20296359e-01 1.09440744e-01 1.67498544e-01 1.64364025e-01\n",
      "  8.51773471e-02 1.31590173e-01 9.62039381e-02 1.25428870e-01]\n",
      " [5.43363154e-01 1.06498003e-01 2.77866274e-02 1.37987316e-01\n",
      "  2.88449489e-02 4.84120622e-02 4.95511442e-02 5.75566888e-02]\n",
      " [5.76334074e-02 6.64262697e-02 3.12906206e-02 7.03991652e-01\n",
      "  1.94775965e-02 7.66034871e-02 1.50376409e-02 2.95393877e-02]\n",
      " [1.56745777e-01 1.03861548e-01 8.69158804e-02 1.81718975e-01\n",
      "  4.65713851e-02 1.20797008e-01 6.55311346e-02 2.37858310e-01]\n",
      " [6.99446648e-02 6.44158795e-02 8.98822993e-02 5.50965853e-02\n",
      "  1.46700554e-02 6.16360269e-02 5.26981473e-01 1.17373049e-01]\n",
      " [2.39932332e-02 9.61018279e-02 2.67239567e-02 1.29931331e-01\n",
      "  5.14766634e-01 2.13191938e-02 1.47067413e-01 4.00965177e-02]\n",
      " [6.83173358e-01 6.24736212e-02 2.08529253e-02 9.18742493e-02\n",
      "  1.87703799e-02 4.19825129e-02 5.18475920e-02 2.90253274e-02]\n",
      " [1.06591485e-01 1.25256002e-01 4.94346656e-02 3.02697301e-01\n",
      "  3.72460224e-02 8.74617174e-02 2.81966086e-02 2.63116241e-01]\n",
      " [8.93464163e-02 1.13088802e-01 8.20891336e-02 4.49433297e-01\n",
      "  4.08621170e-02 1.06880724e-01 4.24098745e-02 7.58896917e-02]\n",
      " [1.12698212e-01 1.31745934e-01 6.78873286e-02 4.21892434e-01\n",
      "  6.07327186e-02 8.77161175e-02 4.60614450e-02 7.12658539e-02]\n",
      " [1.21801764e-01 3.46497357e-01 4.62174751e-02 2.28558317e-01\n",
      "  6.30275756e-02 7.48677105e-02 6.39595911e-02 5.50701991e-02]\n",
      " [3.40824634e-01 9.63435769e-02 3.69100161e-02 2.47701019e-01\n",
      "  4.77256775e-02 1.21735893e-01 4.01929282e-02 6.85661957e-02]\n",
      " [5.05347885e-02 1.09734550e-01 3.60882469e-02 1.86046481e-01\n",
      "  2.80708410e-02 5.09251177e-01 4.35124151e-02 3.67615111e-02]\n",
      " [1.46075606e-01 5.19626975e-01 3.69797647e-02 1.09896250e-01\n",
      "  5.18865846e-02 3.04583944e-02 4.05731089e-02 6.45033941e-02]\n",
      " [4.38605174e-02 1.96004301e-01 2.42047366e-02 1.69431284e-01\n",
      "  2.01908890e-02 4.76250827e-01 3.37095223e-02 3.63478810e-02]\n",
      " [3.40782970e-01 1.21834256e-01 5.97671643e-02 2.12218612e-01\n",
      "  5.09009436e-02 5.26499003e-02 9.30565149e-02 6.87896535e-02]]\n"
     ]
    }
   ],
   "source": [
    "classes = model.predict(x_test)\n",
    "print(classes)"
   ]
  },
  {
   "cell_type": "code",
   "execution_count": 11,
   "metadata": {},
   "outputs": [
    {
     "data": {
      "text/plain": [
       "(29, 8)"
      ]
     },
     "execution_count": 11,
     "metadata": {},
     "output_type": "execute_result"
    }
   ],
   "source": [
    "classes.shape"
   ]
  },
  {
   "cell_type": "code",
   "execution_count": 12,
   "metadata": {},
   "outputs": [
    {
     "data": {
      "text/plain": [
       "(29, 10, 10, 1)"
      ]
     },
     "execution_count": 12,
     "metadata": {},
     "output_type": "execute_result"
    }
   ],
   "source": [
    "x_test.shape"
   ]
  },
  {
   "cell_type": "code",
   "execution_count": 13,
   "metadata": {},
   "outputs": [
    {
     "data": {
      "text/plain": [
       "array([0])"
      ]
     },
     "execution_count": 13,
     "metadata": {},
     "output_type": "execute_result"
    }
   ],
   "source": [
    "y_test[0]"
   ]
  },
  {
   "cell_type": "code",
   "execution_count": null,
   "metadata": {},
   "outputs": [],
   "source": []
  }
 ],
 "metadata": {
  "kernelspec": {
   "display_name": "Python 3",
   "language": "python",
   "name": "python3"
  },
  "language_info": {
   "codemirror_mode": {
    "name": "ipython",
    "version": 3
   },
   "file_extension": ".py",
   "mimetype": "text/x-python",
   "name": "python",
   "nbconvert_exporter": "python",
   "pygments_lexer": "ipython3",
   "version": "3.6.9"
  }
 },
 "nbformat": 4,
 "nbformat_minor": 2
}
