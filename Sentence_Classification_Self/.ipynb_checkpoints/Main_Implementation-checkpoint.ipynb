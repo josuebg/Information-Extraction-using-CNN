{
 "cells": [
  {
   "cell_type": "code",
   "execution_count": 15,
   "metadata": {},
   "outputs": [],
   "source": [
    "from CNN import tCNN"
   ]
  },
  {
   "cell_type": "markdown",
   "metadata": {},
   "source": [
    "### Getting Data"
   ]
  },
  {
   "cell_type": "code",
   "execution_count": 16,
   "metadata": {},
   "outputs": [],
   "source": [
    "import pickle\n",
    "with open('Data_simple.pkl', 'rb') as f:\n",
    "    Final = pickle.load(f)\n",
    "    \n",
    "X = Final[0]\n",
    "Y = Final[1]"
   ]
  },
  {
   "cell_type": "markdown",
   "metadata": {},
   "source": [
    "### Random Shuffle"
   ]
  },
  {
   "cell_type": "code",
   "execution_count": 17,
   "metadata": {},
   "outputs": [],
   "source": [
    "import random\n",
    "\n",
    "XY = list(zip(X, Y))\n",
    "random.shuffle(XY)\n",
    "\n",
    "X, Y = zip(*XY)"
   ]
  },
  {
   "cell_type": "code",
   "execution_count": 18,
   "metadata": {},
   "outputs": [
    {
     "name": "stdout",
     "output_type": "stream",
     "text": [
      "__________________________________________________________________________________________________\n",
      "Layer (type)                    Output Shape         Param #     Connected to                     \n",
      "==================================================================================================\n",
      "input_2 (InputLayer)            (None, 10, 10, 1)    0                                            \n",
      "__________________________________________________________________________________________________\n",
      "conv2d_4 (Conv2D)               (None, 8, 8, 64)     640         input_2[0][0]                    \n",
      "__________________________________________________________________________________________________\n",
      "conv2d_5 (Conv2D)               (None, 8, 8, 64)     640         input_2[0][0]                    \n",
      "__________________________________________________________________________________________________\n",
      "conv2d_6 (Conv2D)               (None, 8, 8, 64)     640         input_2[0][0]                    \n",
      "__________________________________________________________________________________________________\n",
      "max_pooling2d_4 (MaxPooling2D)  (None, 7, 7, 64)     0           conv2d_4[0][0]                   \n",
      "__________________________________________________________________________________________________\n",
      "max_pooling2d_5 (MaxPooling2D)  (None, 7, 7, 64)     0           conv2d_5[0][0]                   \n",
      "__________________________________________________________________________________________________\n",
      "max_pooling2d_6 (MaxPooling2D)  (None, 7, 7, 64)     0           conv2d_6[0][0]                   \n",
      "__________________________________________________________________________________________________\n",
      "concatenate_2 (Concatenate)     (None, 21, 7, 64)    0           max_pooling2d_4[0][0]            \n",
      "                                                                 max_pooling2d_5[0][0]            \n",
      "                                                                 max_pooling2d_6[0][0]            \n",
      "__________________________________________________________________________________________________\n",
      "flatten_2 (Flatten)             (None, 9408)         0           concatenate_2[0][0]              \n",
      "__________________________________________________________________________________________________\n",
      "dense_2 (Dense)                 (None, 8)            75272       flatten_2[0][0]                  \n",
      "==================================================================================================\n",
      "Total params: 77,192\n",
      "Trainable params: 77,192\n",
      "Non-trainable params: 0\n",
      "__________________________________________________________________________________________________\n",
      "Model Saved!\n"
     ]
    },
    {
     "data": {
      "image/png": "[encoded data removed]",
      "text/plain": [
       "<IPython.core.display.Image object>"
      ]
     },
     "execution_count": 18,
     "metadata": {},
     "output_type": "execute_result"
    }
   ],
   "source": [
    "tCNN()\n",
    "\n",
    "\n",
    "from keras.utils import plot_model\n",
    "from IPython.display import Image\n",
    "from keras.models import load_model\n",
    "\n",
    "model = load_model('CNN_model_init.h5')\n",
    "plot_model(model, to_file='multiple_inputs.png')\n",
    "Image(filename='./multiple_inputs.png')"
   ]
  },
  {
   "cell_type": "markdown",
   "metadata": {},
   "source": [
    "## Reshaping array"
   ]
  },
  {
   "cell_type": "code",
   "execution_count": 22,
   "metadata": {},
   "outputs": [
    {
     "name": "stdout",
     "output_type": "stream",
     "text": [
      "X shape : (169, 10, 10, 1)\n",
      "Y shape : (169, 1)\n"
     ]
    }
   ],
   "source": [
    "import numpy as np\n",
    "\n",
    "X = np.asarray(X)\n",
    "Y = np.asarray(Y)\n",
    "\n",
    "X = X.reshape(X.shape[0], X.shape[1], X.shape[2], 1)\n",
    "Y = Y.reshape(Y.shape[0], 1)\n",
    "\n",
    "print(f\"X shape : {X.shape}\\nY shape : {Y.shape}\")"
   ]
  },
  {
   "cell_type": "code",
   "execution_count": 23,
   "metadata": {},
   "outputs": [],
   "source": [
    "x_train = X[0:140]\n",
    "y_train = Y[0:140]\n",
    "\n",
    "x_test = X[140:]\n",
    "y_test = Y[140:]"
   ]
  },
  {
   "cell_type": "markdown",
   "metadata": {},
   "source": [
    "### Training Model"
   ]
  },
  {
   "cell_type": "code",
   "execution_count": 37,
   "metadata": {},
   "outputs": [
    {
     "name": "stdout",
     "output_type": "stream",
     "text": [
      "Train on 140 samples, validate on 29 samples\n",
      "Epoch 1/1000\n",
      "140/140 [==============================] - 0s 1ms/step - loss: 1.8664e-04 - acc: 1.0000 - val_loss: 7.3583e-04 - val_acc: 1.0000\n",
      "\n",
      "Reached 90% accuracy so cancelling training!\n"
     ]
    },
    {
     "data": {
      "text/plain": [
       "<keras.callbacks.History at 0x27c830e9668>"
      ]
     },
     "execution_count": 37,
     "metadata": {},
     "output_type": "execute_result"
    }
   ],
   "source": [
    "# callback function\n",
    "import keras\n",
    "class myCallback(keras.callbacks.Callback):\n",
    "    def on_epoch_end(self, epoch, logs={}):\n",
    "        if(logs.get('acc')>0.99):\n",
    "            print(\"\\nReached 90% accuracy so cancelling training!\")\n",
    "            self.model.stop_training = True\n",
    "        \n",
    "callback = myCallback()\n",
    "\n",
    "model.fit(x_train, y_train,\n",
    "          epochs=1000,\n",
    "          verbose=1,\n",
    "          validation_data=(x_test, y_test),\n",
    "          callbacks=[callback])\n",
    "\n",
    "try:\n",
    "    model.save('CNN_model_final.h5')\n",
    "    print(\"Model Saved!\")\n",
    "except:\n",
    "    print(\"Error in saving Model\")"
   ]
  },
  {
   "cell_type": "code",
   "execution_count": 27,
   "metadata": {},
   "outputs": [
    {
     "data": {
      "text/plain": [
       "[0.0007371555548161268, 1.0]"
      ]
     },
     "execution_count": 27,
     "metadata": {},
     "output_type": "execute_result"
    }
   ],
   "source": [
    "score = model.evaluate(x_test, y_test, verbose=0)\n",
    "score"
   ]
  },
  {
   "cell_type": "code",
   "execution_count": null,
   "metadata": {},
   "outputs": [],
   "source": [
    "set(y_test)"
   ]
  },
  {
   "cell_type": "code",
   "execution_count": 30,
   "metadata": {},
   "outputs": [
    {
     "name": "stdout",
     "output_type": "stream",
     "text": [
      "[[1.3789652e-04 2.2728832e-06 5.5703033e-08 9.9985945e-01 2.3169657e-07\n",
      "  8.2753530e-08 2.0135744e-08 2.2699631e-08]\n",
      " [9.9976712e-01 3.6101308e-05 3.3879838e-05 7.9921803e-05 2.3977824e-05\n",
      "  1.1152287e-05 1.2012012e-05 3.5753405e-05]\n",
      " [6.5304584e-06 1.5569838e-05 1.1809844e-06 9.9996960e-01 1.7453552e-06\n",
      "  3.1532888e-06 4.7657966e-07 1.7655821e-06]\n",
      " [9.6246220e-07 9.9999070e-01 8.3076593e-08 1.0447957e-08 3.8622252e-07\n",
      "  6.6482389e-06 1.1805612e-06 3.4444852e-08]\n",
      " [2.3482493e-05 7.8144978e-05 1.5708737e-06 2.4808063e-05 1.1038236e-06\n",
      "  9.9982136e-01 4.1186718e-06 4.5384331e-05]\n",
      " [9.9995613e-01 5.7760612e-06 2.2624190e-06 8.2592999e-07 3.4748289e-06\n",
      "  7.4449372e-07 5.6239933e-06 2.5305426e-05]\n",
      " [4.5903219e-09 1.4457038e-06 2.1305124e-09 1.1992029e-06 9.9999654e-01\n",
      "  1.9030384e-08 8.5885620e-07 1.7092795e-08]\n",
      " [3.2266546e-06 9.9960262e-01 9.3477848e-07 3.3416378e-04 5.3031281e-06\n",
      "  4.7463931e-05 4.7679041e-06 1.4961098e-06]\n",
      " [2.5561003e-06 4.3477994e-06 3.1827007e-05 2.1931366e-05 7.9199702e-07\n",
      "  9.9992919e-01 1.9824292e-06 7.3069455e-06]\n",
      " [2.2556189e-04 9.9865663e-01 3.0419102e-05 3.0998469e-04 1.8775773e-04\n",
      "  1.9576702e-04 1.3955525e-04 2.5417091e-04]\n",
      " [1.1561627e-09 3.1895743e-11 3.4832720e-12 8.0426448e-09 1.0000000e+00\n",
      "  3.0508828e-11 9.9154418e-09 1.9810286e-12]\n",
      " [1.3511331e-05 9.9953365e-01 3.3962914e-07 4.2969850e-04 3.5031542e-06\n",
      "  1.0987578e-05 1.8063225e-06 6.5732143e-06]\n",
      " [3.8819922e-05 4.6171494e-06 9.9976081e-01 1.9747191e-05 3.7389639e-06\n",
      "  1.3121319e-04 2.0584317e-05 2.0383595e-05]\n",
      " [1.0293706e-08 7.7954665e-09 4.9663593e-09 3.9009498e-10 3.1416762e-11\n",
      "  1.0000000e+00 2.7356609e-10 3.3589860e-08]\n",
      " [4.1620919e-07 2.5214187e-11 3.4872837e-06 5.7221471e-12 2.1249330e-07\n",
      "  5.7316152e-09 9.9999595e-01 2.5167122e-13]\n",
      " [2.3052231e-09 1.8968471e-09 2.2184862e-08 9.9999988e-01 1.8781830e-10\n",
      "  1.2583224e-07 3.9291384e-10 1.7272636e-09]\n",
      " [1.7136905e-05 3.0932139e-04 1.3077377e-07 9.9967134e-01 2.0926906e-07\n",
      "  1.5548094e-06 2.6485085e-07 1.3528884e-07]\n",
      " [4.8274355e-08 1.9488373e-06 8.0850840e-11 1.4203744e-09 9.9997866e-01\n",
      "  1.9270660e-06 1.7343877e-05 8.5280665e-13]\n",
      " [3.8177546e-05 9.9995279e-01 1.3409108e-07 2.0787375e-07 2.7717280e-07\n",
      "  2.7623113e-08 8.7750453e-07 7.4995014e-06]\n",
      " [4.2353636e-09 9.3092964e-09 2.8904217e-13 4.7562323e-15 1.0000000e+00\n",
      "  4.6980132e-12 1.2665243e-08 1.9295040e-11]\n",
      " [2.2243512e-06 9.6258987e-07 2.1068682e-07 3.0763182e-08 6.7774981e-09\n",
      "  9.9999642e-01 1.2811981e-07 6.2185039e-09]\n",
      " [2.2960533e-03 2.5077001e-04 4.2016851e-03 2.1585301e-04 1.0817356e-04\n",
      "  1.7235945e-04 1.7049587e-04 9.9258453e-01]\n",
      " [3.3412302e-06 9.9981827e-01 1.9269223e-06 1.6538413e-04 7.1174662e-07\n",
      "  1.0415547e-06 3.6219803e-06 5.7099737e-06]\n",
      " [8.1963191e-07 2.2818537e-07 2.3392569e-05 1.1954907e-06 3.4735013e-08\n",
      "  9.9996996e-01 9.6101289e-08 4.2952479e-06]\n",
      " [2.3186074e-04 2.6172056e-04 1.8063060e-03 2.3441829e-03 3.2923566e-05\n",
      "  3.0999660e-04 2.4094808e-04 9.9477202e-01]\n",
      " [7.2134858e-06 2.0058903e-06 2.7182640e-08 9.9998987e-01 2.6617556e-08\n",
      "  7.2269370e-07 9.3016808e-08 3.4042490e-08]\n",
      " [9.1546106e-05 3.5901169e-06 3.3907159e-07 9.9989522e-01 1.4091477e-06\n",
      "  6.0257407e-06 8.8102104e-07 9.4449837e-07]\n",
      " [2.6011164e-04 1.8358660e-03 6.2753053e-05 9.9521798e-01 3.2008102e-04\n",
      "  1.9810589e-03 1.9798425e-04 1.2411155e-04]\n",
      " [2.2166503e-06 9.9999499e-01 1.0791918e-08 4.1273279e-07 5.0369960e-07\n",
      "  2.3362655e-07 6.8283464e-07 9.0806196e-07]]\n"
     ]
    }
   ],
   "source": [
    "classes = model.predict(x_test)\n",
    "print(classes)"
   ]
  },
  {
   "cell_type": "code",
   "execution_count": 31,
   "metadata": {},
   "outputs": [
    {
     "data": {
      "text/plain": [
       "(29, 8)"
      ]
     },
     "execution_count": 31,
     "metadata": {},
     "output_type": "execute_result"
    }
   ],
   "source": [
    "classes.shape"
   ]
  },
  {
   "cell_type": "code",
   "execution_count": 32,
   "metadata": {},
   "outputs": [
    {
     "data": {
      "text/plain": [
       "(29, 10, 10, 1)"
      ]
     },
     "execution_count": 32,
     "metadata": {},
     "output_type": "execute_result"
    }
   ],
   "source": [
    "x_test.shape"
   ]
  },
  {
   "cell_type": "code",
   "execution_count": 33,
   "metadata": {},
   "outputs": [
    {
     "data": {
      "text/plain": [
       "array([3])"
      ]
     },
     "execution_count": 33,
     "metadata": {},
     "output_type": "execute_result"
    }
   ],
   "source": [
    "y_test[0]"
   ]
  },
  {
   "cell_type": "code",
   "execution_count": null,
   "metadata": {},
   "outputs": [],
   "source": []
  }
 ],
 "metadata": {
  "kernelspec": {
   "display_name": "Python 3",
   "language": "python",
   "name": "python3"
  },
  "language_info": {
   "codemirror_mode": {
    "name": "ipython",
    "version": 3
   },
   "file_extension": ".py",
   "mimetype": "text/x-python",
   "name": "python",
   "nbconvert_exporter": "python",
   "pygments_lexer": "ipython3",
   "version": "3.6.9"
  }
 },
 "nbformat": 4,
 "nbformat_minor": 2
}
