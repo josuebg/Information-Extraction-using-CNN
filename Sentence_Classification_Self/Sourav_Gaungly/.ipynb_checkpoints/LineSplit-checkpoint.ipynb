{
 "cells": [
  {
   "cell_type": "code",
   "execution_count": 1,
   "metadata": {},
   "outputs": [
    {
     "name": "stdout",
     "output_type": "stream",
     "text": [
      "Sourav Ganguly is a name that polarised Indian cricket fans like possibly no other \n",
      "\n",
      "While he claims an irrefutable place in the pantheon of the game, criticism was a leitmotif in his 12-year-long international career \n",
      "\n",
      "He took it chin up, of course — first as player and then as captain \n",
      "\n",
      "His greatest legacy, and there is no polarisation here — is that of a leader \n",
      "\n",
      "He charted a new trajectory for Indian cricket and built a team capable enough to traverse that path \n",
      "\n",
      "In his recently released memoir, A Century Is Not Enough, Sourav reveals everything that happened when he took over as India captain in 2000 \n",
      "\n",
      "He says that in the aftermath of the match-fixing scandal that shocked the nation and the global cricketing fraternity, his well-wishers handed him a copy of former English captain Mike Brearley’s leadership bible — The Art of Captaincy \n",
      "\n",
      "He went on to develop his own style of leadership and a very effective one at that \n",
      "\n",
      "In his five years as captain between 2000 and 2005, he pulled India up from #8 to #2 in the ICC rankings \n",
      "\n",
      "By the time he hung up his boots, the Ganguly School of Captaincy had become a thing, and one to emulate \n",
      "\n",
      "It was being taught at management schools in India and presented at corporate organisations and events \n",
      "\n",
      "Even today, Ganguly is called to deliver talks on corporate leadership where he draws parallels from cricket \n",
      "\n",
      "Sourav had the knack of unearthing great talent \n",
      "\n",
      "What followed was even better \n",
      "\n",
      "He would back these players to the hilt, give them enough confidence to fail, and see them evolve into match-winners who could single-handedly take the team home \n",
      "\n",
      " Virender Sehwag, Yuvraj Singh, Harbhajan Singh, Zaheer Khan — Ganguly made men out of all these boys \n",
      "\n",
      "Each of them went on to have remarkable careers and contributed significantly to India’s victories at home and abroad, and eventually became a part of the team that lifted the World Cup in 2011 \n",
      "\n",
      "Sourav explains a captain’s conviction in his book \n",
      "\n",
      "He writes, “I have always endorsed a leadership point of view that once you are convinced about someone's class you allow him to blossom despite a few failures$ But you need patience$ During my years as the Indian captain I have hand-held a few players as well$ We were patient$” He reveals how he backed Harbhajan in 2001, when the selectors wanted to drop him \n",
      "\n",
      "The off-spinner repaid his captain’s faith with a career-defining series against Australia \n",
      "\n",
      "That three-match series saw him pick up 32 wickets, including a hat trick — the first ever by an Indian in the longer format of the game — at the historic Eden Gardens test \n",
      "\n",
      "Sourav writes, “I believed in throwing the younger players at the deep end$ The better ones did handle themselves, swam their way and beat the odds$ Bhajji for instance$ The selectors wanted to drop him after the Mumbai test against Australia$ They wanted to play Sarandeep Singh$ But I resisted$ I had seen a spark in Harbhajan and he justified my faith by almost single-handedly winning us the series$”  That match (and that series) is widely believed to have changed Indian cricket forever \n",
      "\n",
      "A leader can be a control freak \n",
      "\n",
      "Several leaders lose the plot because they are so \n",
      "\n",
      "Hence, man-management skills are essential in leadership \n",
      "\n",
      "Sourav had a few \n",
      "\n",
      "He had identified his on-ground soldiers and would let them be in critical situations \n",
      "\n",
      "No interference, no orders \n",
      "\n",
      "He writes of two such exceptional field marshals in war zones that Team India conquered \n",
      "\n",
      "“Of all the knocks I have seen in my cricketing career, Laxman’s 281 tops the list… Laxman’s partner in Eden was Rahul$ Together they had scored a superb 376$ Two years later, Rahul would partner Laxman in Adelaide for another huge triple-century partnership$ I had so much faith in these two that I didn’t send out a single message while they were batting$ I just sat in the dressing room and kept on praying$” Both Rahul Dravid’s and Laxman’s careers reached dizzying heights under Sourav’s captaincy \n",
      "\n",
      "They along with Sachin and Sourav himself came to form the fabled ‘Fab Four’ of Indian cricket that inspired an entire generation \n",
      "\n",
      "Sourav’s career hit a roadblock in 2005-06 when he was removed as captain and even dropped from the national team \n",
      "\n",
      "It was an ordeal not many ‘stars’ would have faced in their sporting careers, especially after being at the helm of affairs for five years \n",
      "\n",
      "He describes it as “driving a Rolls-Royce one day and sleeping on the pavement the next$” Nobody, besides him, believed that he could make a comeback \n",
      "\n",
      "Not even his own family \n",
      "\n",
      "His father wanted him to retire, reveals Dada in the book \n",
      "\n",
      "But his self-belief never took a beating \n",
      "\n",
      "Dada was convinced that he had cricket left in him and was good enough to represent the national team \n",
      "\n",
      "He writes, “My experience had taught me that I played best when I worked the hardest$ So I continued to believe that my time would come$ I knew I was a winner$ Being a winner is about what happens in your head$ And I had never lost the belief in myself$ I looked at a cricket ground and believed it was mine$ Looked at the pitch and believed we would win$ Looked at the bat and told myself I would score runs$ I woke up every morning to succeed… When I grow older I don't want to sit on my sofa and tell myself, Sourav, you gave up when the going was tough$ You should have tried harder$ I wanted to catch the bull by its horns and win$” It is well-documented now that Sachin told Sourav at the time of the latter’s retirement in 2008 that he was playing the best cricket of his life after coming back \n",
      "\n",
      "The proverbial phoenix had risen from the ashes, cemented his place in the team once again, crossed the landmark figure of 100 tests for India, got that elusive home ground hundred, and scored his first test double ton — all between December 2006 and November 2008 \n",
      "\n",
      "Sourav’s undying self-belief led him to script one of the most remarkable comebacks sport has ever seen \n",
      "\n",
      "His ordeal went on to prove that even successful leaders aren’t assured of their berths in a team/organisation \n",
      "\n",
      "Towards the end of 2008, the BCCI selection committee was tilting in favour of fresh blood \n",
      "\n",
      "Several domestic players had burst into the scene in the inaugural edition of the IPL \n",
      "\n",
      "The national team’s sorry performance in the Sri Lanka tour made matters worse for senior players, 36-year-old Sourav included \n",
      "\n",
      "He had a whiff of what was about happen when he got left out of the Rest of India squad for a domestic fixture \n",
      "\n",
      "That events of that afternoon in 2008, he writes, “still remain a raw wound for me$ I was going for practice at Eden Gardens$$$ Suddenly my mobile rang$ The caller happened to be a journalist$ He had heard the news that I had been left out of the Rest of India squad, which is a clear indicator of how the selectors feel about you$” There was disappointment and “disillusionment” \n",
      "\n",
      "But, no denial \n",
      "\n",
      "Sourav writes, “It can’t  have been my skill as I had only failed in one series in Sri Lanka where, apart from one batsman, none of my colleagues had done well$ Yet they had all got picked… This action made it clear to me that my chances of playing for India were now pretty low$” He made up his mind that the upcoming home series against Australia would be his last \n",
      "\n",
      "He reveals, “I decided to call up the captain of my team and try to get to the bottom of the mess$ Anil Kumble had been a friend and dear colleague for a long time$ I asked him point-blank, did he think I was no longer an automatic choice in his eleven? But deep down I knew my time was up$” After reaching Bengaluru, venue for the first test, Sourav announced his decision to quit to the press \n",
      "\n",
      "In quintessential Sourav-style, he polarised the cricket world once again \n",
      "\n",
      "While some argued that he was ill-treated by selectors and had a few more years of cricket left in him, others reckoned it was time for him to go \n",
      "\n",
      "Most importantly, Sourav himself felt the need to do so \n",
      "\n",
      "He says, “I was filled with mixed emotions$ I felt extremely sad that the biggest love of my life was going away$ On the other hand, I felt deeply satisfied that I had held my head high right till the end… I always knew that this day would arrive and I was extremely happy at what I had achieved$ It was time to march on$” Sourav always had the gift of timing \n",
      "\n",
      "In retirement too, it was impeccable! \n",
      "\n"
     ]
    }
   ],
   "source": [
    "import re\n",
    "\n",
    "# reading text file\n",
    "data = open('./Input_SauravGaungly.txt', encoding='utf-8', mode='r')\n",
    "data_lines = data.readlines()\n",
    "\n",
    "# replacing U.S. with US and spliting lines\n",
    "cleaned_data = []\n",
    "\n",
    "for l in range(len(data_lines)):\n",
    "    flag = 0\n",
    "    for i in range(len(data_lines[l])):\n",
    "        try:\n",
    "            if flag == 0 and data_lines[l][i] == \"“\":\n",
    "                flag = 1\n",
    "            elif flag == 1 and data_lines[l][i] == \"”\":\n",
    "                flag = 0\n",
    "\n",
    "            if flag == 1 and data_lines[l][i] == '.':\n",
    "                data_lines[l] = data_lines[l][0:i] + \"$\" + data_lines[l][i+1:]\n",
    "        except:\n",
    "            print(data_lines[l])\n",
    "            break\n",
    "    cleaned_data.append(data_lines[l])\n",
    "        \n",
    "lis = []\n",
    "\n",
    "for line in cleaned_data:\n",
    "    if len(set(line)) > 1:\n",
    "        lis += line.split('.')\n",
    "\n",
    "# removing unwanted elements and putting cleaned line in cleaned_data\n",
    "cleaned_data = []\n",
    "for line in lis:\n",
    "    if len(line) >= 1:\n",
    "        if line[0] == \" \":\n",
    "            line = line[1:]\n",
    "        line = re.sub(r'\\[.*?\\]', \"\", line)\n",
    "        \n",
    "        if line != '\\n':\n",
    "            cleaned_data.append(line)\n",
    "\n",
    "# printing each line of cleaned_data\n",
    "for line in cleaned_data:\n",
    "    print(line, \"\\n\")"
   ]
  },
  {
   "cell_type": "code",
   "execution_count": 2,
   "metadata": {},
   "outputs": [
    {
     "data": {
      "text/plain": [
       "'He says, “I was filled with mixed emotions$ I felt extremely sad that the biggest love of my life was going away$ On the other hand, I felt deeply satisfied that I had held my head high right till the end… I always knew that this day would arrive and I was extremely happy at what I had achieved$ It was time to march on$” Sourav always had the gift of timing'"
      ]
     },
     "execution_count": 2,
     "metadata": {},
     "output_type": "execute_result"
    }
   ],
   "source": [
    "cleaned_data[len(cleaned_data)-2]"
   ]
  },
  {
   "cell_type": "code",
   "execution_count": 3,
   "metadata": {},
   "outputs": [
    {
     "name": "stdout",
     "output_type": "stream",
     "text": [
      "He writes, “My experience had taught me that I played best when I worked the hardest$ So I continued to believe that my time would come$ I knew I was a winner$ Being a winner is about what happens in your head$ And I had never lost the belief in myself$ I looked at a cricket ground and believed it was mine$ Looked at the pitch and believed we would win$ Looked at the bat and told myself I would score runs$ I woke up every morning to succeed… When I grow older I don't want to sit on my sofa and tell myself, Sourav, you gave up when the going was tough$ You should have tried harder$ I wanted to catch the bull by its horns and win$”\n"
     ]
    }
   ],
   "source": [
    "line = \"He writes, “My experience had taught me that I played best when I worked the hardest. So I continued to believe that my time would come. I knew I was a winner. Being a winner is about what happens in your head. And I had never lost the belief in myself. I looked at a cricket ground and believed it was mine. Looked at the pitch and believed we would win. Looked at the bat and told myself I would score runs. I woke up every morning to succeed… When I grow older I don't want to sit on my sofa and tell myself, Sourav, you gave up when the going was tough. You should have tried harder. I wanted to catch the bull by its horns and win.”\"\n",
    "flag = 0\n",
    "\n",
    "for i in range(len(line)):\n",
    "    if flag == 0 and line[i] == \"“\":\n",
    "        flag = 1\n",
    "    elif flag == 1 and line[i] == \"“\":\n",
    "        flag = 0\n",
    "        \n",
    "    if flag == 1 and line[i] == '.':\n",
    "        line = line[0:i] + \"$\" + line[i+1:]\n",
    "print(line)"
   ]
  },
  {
   "cell_type": "code",
   "execution_count": 4,
   "metadata": {},
   "outputs": [
    {
     "data": {
      "text/plain": [
       "55"
      ]
     },
     "execution_count": 4,
     "metadata": {},
     "output_type": "execute_result"
    }
   ],
   "source": [
    "len(cleaned_data)"
   ]
  },
  {
   "cell_type": "code",
   "execution_count": 5,
   "metadata": {},
   "outputs": [],
   "source": [
    "from LineSplit import LineSplit\n",
    "data = LineSplit('./Input_SauravGaungly.txt')"
   ]
  },
  {
   "cell_type": "code",
   "execution_count": 6,
   "metadata": {},
   "outputs": [
    {
     "data": {
      "text/plain": [
       "55"
      ]
     },
     "execution_count": 6,
     "metadata": {},
     "output_type": "execute_result"
    }
   ],
   "source": [
    "len(data)"
   ]
  },
  {
   "cell_type": "code",
   "execution_count": null,
   "metadata": {},
   "outputs": [],
   "source": []
  }
 ],
 "metadata": {
  "kernelspec": {
   "display_name": "Python 3",
   "language": "python",
   "name": "python3"
  },
  "language_info": {
   "codemirror_mode": {
    "name": "ipython",
    "version": 3
   },
   "file_extension": ".py",
   "mimetype": "text/x-python",
   "name": "python",
   "nbconvert_exporter": "python",
   "pygments_lexer": "ipython3",
   "version": "3.6.9"
  }
 },
 "nbformat": 4,
 "nbformat_minor": 2
}
