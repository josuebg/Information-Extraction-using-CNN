{
 "cells": [
  {
   "cell_type": "code",
   "execution_count": 1,
   "metadata": {},
   "outputs": [],
   "source": [
    "from LineSplit import LineSplit"
   ]
  },
  {
   "cell_type": "code",
   "execution_count": 11,
   "metadata": {},
   "outputs": [
    {
     "name": "stdout",
     "output_type": "stream",
     "text": [
      "Enter File One: summary_worldwar2.txt\n",
      "Enter File Two: Ref_WorldWar2.txt\n"
     ]
    }
   ],
   "source": [
    "fileOne = input(\"Enter File One: \")\n",
    "fileTwo = input(\"Enter File Two: \")"
   ]
  },
  {
   "cell_type": "code",
   "execution_count": 12,
   "metadata": {},
   "outputs": [
    {
     "name": "stdout",
     "output_type": "stream",
     "text": [
      "\n",
      "Number of Common Lines Found: 9\n",
      "\n",
      "Line 0: World War II (often abbreviated to WWII or WW2), also known as the Second World War, was a global war that lasted from 1939 to 1945\n",
      "\n",
      "Line 1: World War II was the deadliest conflict in human history, marked by 70 to 85 million fatalities, most of whom were civilians in the Soviet Union and China\n",
      "\n",
      "Line 2: Japan, which aimed to dominate Asia and the Pacific, was at war with China by 1937, though neither side had declared war on the other\n",
      "\n",
      "Line 3: The vast majority of the world's countries—including all the great powers—eventually formed two opposing military alliances: the Allies and the Axis\n",
      "\n",
      "Line 4: Under the Molotov–Ribbentrop Pact of August 1939, Germany and the Soviet Union partitioned and annexed territories of their European neighbours, Poland, Finland, Romania and the Baltic states\n",
      "\n",
      "Line 5: Following the onset of campaigns in North Africa and East Africa, and the Fall of France in mid 1940, the war continued primarily between the European Axis powers and the British Empire\n",
      "\n",
      "Line 6: On 22 June 1941, the European Axis powers launched an invasion of the Soviet Union, opening the largest land theatre of war in history\n",
      "\n",
      "Line 7: The United Nations (UN) was established to foster international co-operation and prevent future conflicts; the victorious great powers—China, France, the Soviet Union, the United Kingdom, and the United States—became the permanent members of its Security Council\n",
      "\n",
      "Line 8: Political integration, especially in Europe, emerged as an effort to end pre-war enmities and create a common identity\n"
     ]
    }
   ],
   "source": [
    "listOne = LineSplit(fileOne)\n",
    "listTwo = LineSplit(fileTwo)\n",
    "\n",
    "cLines = []\n",
    "\n",
    "for line in listOne:\n",
    "    if line in listTwo:\n",
    "        cLines.append(line)\n",
    "        listTwo.remove(line)\n",
    "\n",
    "print(f\"\\nNumber of Common Lines Found: {len(cLines)}\")\n",
    "\n",
    "for i in range(len(cLines)):\n",
    "    print(f\"\\nLine {i}: {cLines[i]}\")"
   ]
  }
 ],
 "metadata": {
  "kernelspec": {
   "display_name": "Python 3",
   "language": "python",
   "name": "python3"
  },
  "language_info": {
   "codemirror_mode": {
    "name": "ipython",
    "version": 3
   },
   "file_extension": ".py",
   "mimetype": "text/x-python",
   "name": "python",
   "nbconvert_exporter": "python",
   "pygments_lexer": "ipython3",
   "version": "3.6.9"
  }
 },
 "nbformat": 4,
 "nbformat_minor": 2
}
