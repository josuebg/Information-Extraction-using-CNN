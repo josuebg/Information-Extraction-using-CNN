{
 "cells": [
  {
   "cell_type": "code",
   "execution_count": 3,
   "metadata": {},
   "outputs": [],
   "source": [
    "from LineSplit import LineSplit\n",
    "from WordSplit import WordSplit\n",
    "from nltk.translate.bleu_score import sentence_bleu"
   ]
  },
  {
   "cell_type": "code",
   "execution_count": 4,
   "metadata": {},
   "outputs": [
    {
     "data": {
      "text/plain": [
       "'\\nnum = int(input(\"Enter Number of Reference Files: \"))\\nfiles = []\\n\\nfor i in range(num):\\n    refFile = input(f\"\\nEnter Location of Reference File {i}: \")\\n    files.append(refFile)\\n    \\ncanFile = input(\"\\nEnter Location of Candidate File: \")\\n'"
      ]
     },
     "execution_count": 4,
     "metadata": {},
     "output_type": "execute_result"
    }
   ],
   "source": [
    "\"\"\"\n",
    "num = int(input(\"Enter Number of Reference Files: \"))\n",
    "files = []\n",
    "\n",
    "for i in range(num):\n",
    "    refFile = input(f\"\\nEnter Location of Reference File {i}: \")\n",
    "    files.append(refFile)\n",
    "    \n",
    "canFile = input(\"\\nEnter Location of Candidate File: \")\n",
    "\"\"\""
   ]
  },
  {
   "cell_type": "code",
   "execution_count": 10,
   "metadata": {},
   "outputs": [],
   "source": [
    "files = ['Ref_SriAurobindo_sir.txt', 'Ref_SriAurobindo_mihir.txt', 'Ref_SriAurobindo_chandni.txt', 'Ref_SriAurobindo_sweta.txt']\n",
    "canFile = 'summary_sriAurobindo.txt'"
   ]
  },
  {
   "cell_type": "code",
   "execution_count": 11,
   "metadata": {},
   "outputs": [
    {
     "name": "stdout",
     "output_type": "stream",
     "text": [
      "BLEU score for Ref_SriAurobindo_sir.txt:  0.6037447986454486\n",
      "BLEU score for Ref_SriAurobindo_mihir.txt:  0.5427681597542902\n",
      "BLEU score for Ref_SriAurobindo_chandni.txt:  0.45724183757754105\n",
      "BLEU score for Ref_SriAurobindo_sweta.txt:  0.4955958834512971\n",
      "\n",
      "Average Score: 0.5248376698571442\n"
     ]
    }
   ],
   "source": [
    "score = 0\n",
    "\n",
    "canList = WordSplit(LineSplit(canFile))\n",
    "\n",
    "for refFile in files:\n",
    "    refList = WordSplit(LineSplit(refFile))\n",
    "    canListTemp = canList.copy()\n",
    "    \n",
    "    canFinal = []\n",
    "    refFinal = []\n",
    "\n",
    "    for item in canListTemp:\n",
    "        if item in refList:\n",
    "            canFinal.append(item)\n",
    "            refFinal.append(item)\n",
    "            canListTemp.remove(item)\n",
    "            refList.remove(item)\n",
    "            \n",
    "    canFinal += canListTemp\n",
    "    refFinal += refList\n",
    "\n",
    "    tempScore = sentence_bleu([refFinal], canFinal)\n",
    "    print(f\"BLEU score for {refFile}: \", tempScore)\n",
    "    score += tempScore\n",
    "    \n",
    "print(f\"\\nAverage Score: {score/len(files)}\")"
   ]
  },
  {
   "cell_type": "code",
   "execution_count": 9,
   "metadata": {},
   "outputs": [
    {
     "data": {
      "text/plain": [
       "40"
      ]
     },
     "execution_count": 9,
     "metadata": {},
     "output_type": "execute_result"
    }
   ],
   "source": [
    "len(LineSplit(files[0]))"
   ]
  },
  {
   "cell_type": "code",
   "execution_count": 10,
   "metadata": {},
   "outputs": [
    {
     "data": {
      "text/plain": [
       "16.5"
      ]
     },
     "execution_count": 10,
     "metadata": {},
     "output_type": "execute_result"
    }
   ],
   "source": [
    "(55 * 30)/100"
   ]
  },
  {
   "cell_type": "code",
   "execution_count": 11,
   "metadata": {},
   "outputs": [
    {
     "data": {
      "text/plain": [
       "19"
      ]
     },
     "execution_count": 11,
     "metadata": {},
     "output_type": "execute_result"
    }
   ],
   "source": [
    "len(LineSplit('Ref_SouravGaungly_chandni.txt'))"
   ]
  },
  {
   "cell_type": "code",
   "execution_count": 12,
   "metadata": {},
   "outputs": [
    {
     "data": {
      "text/plain": [
       "19"
      ]
     },
     "execution_count": 12,
     "metadata": {},
     "output_type": "execute_result"
    }
   ],
   "source": [
    "len(LineSplit('summary_souravGaungly.txt'))"
   ]
  },
  {
   "cell_type": "code",
   "execution_count": 23,
   "metadata": {},
   "outputs": [
    {
     "data": {
      "text/plain": [
       "9"
      ]
     },
     "execution_count": 23,
     "metadata": {},
     "output_type": "execute_result"
    }
   ],
   "source": [
    "len(LineSplit('Ref_SriAurobindo_mihir.txt'))"
   ]
  },
  {
   "cell_type": "code",
   "execution_count": 20,
   "metadata": {},
   "outputs": [],
   "source": [
    "from LineSplitAuro import LineSplit"
   ]
  },
  {
   "cell_type": "code",
   "execution_count": 21,
   "metadata": {},
   "outputs": [
    {
     "data": {
      "text/plain": [
       "9"
      ]
     },
     "execution_count": 21,
     "metadata": {},
     "output_type": "execute_result"
    }
   ],
   "source": [
    "len(LineSplit('summary_sriAurobindo.txt'))"
   ]
  },
  {
   "cell_type": "code",
   "execution_count": 22,
   "metadata": {},
   "outputs": [
    {
     "data": {
      "text/plain": [
       "['“Sri Aurobindo always loved deeply his Motherland$ But he wished her to be great, noble, pure and worthy of her big mission in the world$ He refused to let her sink to the sordid and vulgar level of blind self-interests and ignorant prejudices$ This is why, in full conformity to his will, we lift high the standard of truth, progress and transformation of mankind, without caring for those who, through ignorance, stupidity, envy or bad will, seek to soil it and drag it down into the mud$ We carry it very high so that all who have a soul may see it and gather round it$” ( The Mother )\\n',\n",
       " '“India has become the symbolic representation of all the difficulties of modern mankind$ India will be the land of its resurrection – the resurrection to a higher and truer life$” ( The Mother )\\n',\n",
       " '“The West expresses more than it really knows$ India knows more than it really can express$” ( The Mother )\\n',\n",
       " '“We are no ordinary race$ We are a people ancient as our hills and rivers and we have behind us a history of manifold greatness, not surpassed by any other race$ We are the descendents of those who performed tapasya and underwent unheard-of austerities for the sake of spiritual gain and of their own will submitted to all the sufferings of which humanity is capable$ We are the children of those mothers who ascended with a smile the funeral pyre that they might follow their husbands to another world$ We are people to whom suffering is welcome and who have a spiritual strength within them, greater than any physical force$ We are a people in whom God has chosen to manifest Himself more than any other at many great moments of our history$” ( Sri Aurobindo )\\n',\n",
       " '“…India is the only place in the world which is still aware that something else than matter exists$ The other countries have quite forgotten it: Europe, America and elsewhere…$That is why she still has a message to preserve and deliver to the world$ But at present she is splashing and floundering in the muddle$ Sri Aurobindo has shown that the truth does not lie in running away from earthly life but in remaining in it, to transform it, divinize it, so that the Divine can manifest HERE, in this PHYSICAL world$” ( The Mother )\\n',\n",
       " '“I say that it is the Sanatan Dharma which for us is nationalism$ This Hindu nation was born with the Sanatan Dharma, with it it moves and with it it grows$ When the Sanatan Dharma declines, then the nation declines, and if the Sanatan Dharma were capable of perishing, with the Sanatan Dharma it would perish$ The Sanatan Dharma, that is nationalism$” ( Sri Aurobindo )\\n',\n",
       " '“India cannot perish, our race cannot become extinct, because among all the divisions of mankind it is to India that is reserved the highest and the most splendid destiny, the most essential to the future of the human race$ It is she who must send forth from herself the future religion of the entire world, the Eternal Religion which is to harmonise all religion, science and philosophies and make mankind one soul$” ( Sri Aurobindo )\\n',\n",
       " '“The world waits for the rising of India to receive the divine flood in its fullness$” ( Sri Aurobindo)\\n',\n",
       " '“India is my soul$” ( The Mother )']"
      ]
     },
     "execution_count": 22,
     "metadata": {},
     "output_type": "execute_result"
    }
   ],
   "source": [
    "LineSplit('summary_sriAurobindo.txt')"
   ]
  },
  {
   "cell_type": "code",
   "execution_count": null,
   "metadata": {},
   "outputs": [],
   "source": []
  }
 ],
 "metadata": {
  "kernelspec": {
   "display_name": "Python 3",
   "language": "python",
   "name": "python3"
  },
  "language_info": {
   "codemirror_mode": {
    "name": "ipython",
    "version": 3
   },
   "file_extension": ".py",
   "mimetype": "text/x-python",
   "name": "python",
   "nbconvert_exporter": "python",
   "pygments_lexer": "ipython3",
   "version": "3.6.9"
  }
 },
 "nbformat": 4,
 "nbformat_minor": 2
}
