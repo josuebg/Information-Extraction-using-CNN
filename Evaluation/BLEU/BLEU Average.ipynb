{
 "cells": [
  {
   "cell_type": "code",
   "execution_count": 6,
   "metadata": {},
   "outputs": [],
   "source": [
    "from LineSplit import LineSplit\n",
    "from WordSplit import WordSplit\n",
    "from nltk.translate.bleu_score import sentence_bleu"
   ]
  },
  {
   "cell_type": "code",
   "execution_count": 8,
   "metadata": {},
   "outputs": [
    {
     "name": "stdout",
     "output_type": "stream",
     "text": [
      "Enter Number of Reference Files: 1\n",
      "\n",
      "Enter Location of Reference File 0: Ref_SouravGaungly_sir.txt\n",
      "\n",
      "Enter Location of Candidate File: summary_souravGaungly.txt\n"
     ]
    }
   ],
   "source": [
    "num = int(input(\"Enter Number of Reference Files: \"))\n",
    "files = []\n",
    "\n",
    "for i in range(num):\n",
    "    refFile = input(f\"\\nEnter Location of Reference File {i}: \")\n",
    "    files.append(refFile)\n",
    "    \n",
    "canFile = input(\"\\nEnter Location of Candidate File: \")"
   ]
  },
  {
   "cell_type": "code",
   "execution_count": null,
   "metadata": {},
   "outputs": [],
   "source": [
    "score = 0\n",
    "\n",
    "canList = WordSplit(LineSplit(canFile))\n",
    "\n",
    "for refFile in files:\n",
    "    refList = WordSplit(LineSplit(refFile))\n",
    "    canListTemp = canList.copy()\n",
    "    \n",
    "    canFinal = []\n",
    "    refFinal = []\n",
    "\n",
    "    for item in canListTemp:\n",
    "        if item in refList:\n",
    "            canFinal.append(item)\n",
    "            refFinal.append(item)\n",
    "            canListTemp.remove(item)\n",
    "            refList.remove(item)\n",
    "            \n",
    "    canFinal += canListTemp\n",
    "    refFinal += refList\n",
    "\n",
    "    tempScore = sentence_bleu([refFinal], canFinal)\n",
    "    print(f\"BLEU score for {refFile}: \", tempScore)\n",
    "    score += tempScore\n",
    "    \n",
    "print(f\"\\nAverage Score: {score/num}\")"
   ]
  },
  {
   "cell_type": "code",
   "execution_count": 9,
   "metadata": {},
   "outputs": [
    {
     "data": {
      "text/plain": [
       "40"
      ]
     },
     "execution_count": 9,
     "metadata": {},
     "output_type": "execute_result"
    }
   ],
   "source": [
    "len(LineSplit(files[0]))"
   ]
  },
  {
   "cell_type": "code",
   "execution_count": 10,
   "metadata": {},
   "outputs": [
    {
     "data": {
      "text/plain": [
       "16.5"
      ]
     },
     "execution_count": 10,
     "metadata": {},
     "output_type": "execute_result"
    }
   ],
   "source": [
    "(55 * 30)/100"
   ]
  },
  {
   "cell_type": "code",
   "execution_count": null,
   "metadata": {},
   "outputs": [],
   "source": []
  }
 ],
 "metadata": {
  "kernelspec": {
   "display_name": "Python 3",
   "language": "python",
   "name": "python3"
  },
  "language_info": {
   "codemirror_mode": {
    "name": "ipython",
    "version": 3
   },
   "file_extension": ".py",
   "mimetype": "text/x-python",
   "name": "python",
   "nbconvert_exporter": "python",
   "pygments_lexer": "ipython3",
   "version": "3.6.9"
  }
 },
 "nbformat": 4,
 "nbformat_minor": 2
}
