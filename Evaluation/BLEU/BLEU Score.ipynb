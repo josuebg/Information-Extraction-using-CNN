{
 "cells": [
  {
   "cell_type": "code",
   "execution_count": 24,
   "metadata": {},
   "outputs": [],
   "source": [
    "from LineSplit import LineSplit\n",
    "from WordSplit import WordSplit\n",
    "from nltk.translate.bleu_score import sentence_bleu"
   ]
  },
  {
   "cell_type": "code",
   "execution_count": 27,
   "metadata": {},
   "outputs": [
    {
     "name": "stdout",
     "output_type": "stream",
     "text": [
      "\n",
      "Enter Location of Candidate File: a\n",
      "\n",
      "Enter Location of Reference File: b\n"
     ]
    }
   ],
   "source": [
    "canFile = input(\"\\nEnter Location of Candidate File: \")\n",
    "refFile = input(\"\\nEnter Location of Reference File: \")\n",
    "canFile = './summary_worldwar2.txt'\n",
    "refFile = './summary_worldwar2.txt'\n",
    "\n",
    "canList = WordSplit(LineSplit(canFile))\n",
    "refList = WordSplit(LineSplit(refFile))\n"
   ]
  },
  {
   "cell_type": "code",
   "execution_count": 28,
   "metadata": {},
   "outputs": [],
   "source": [
    "canFinal = []\n",
    "refFinal = []\n",
    "\n",
    "for item in canList:\n",
    "    if item in refList:\n",
    "        canFinal.append(item)\n",
    "        refFinal.append(item)\n",
    "        canList.remove(item)\n",
    "        refList.remove(item)\n",
    "\n",
    "canFinal += canList\n",
    "refFinal += refList"
   ]
  },
  {
   "cell_type": "code",
   "execution_count": 32,
   "metadata": {},
   "outputs": [
    {
     "data": {
      "text/plain": [
       "True"
      ]
     },
     "execution_count": 32,
     "metadata": {},
     "output_type": "execute_result"
    }
   ],
   "source": [
    "canFinal == refFinal"
   ]
  },
  {
   "cell_type": "code",
   "execution_count": 33,
   "metadata": {},
   "outputs": [
    {
     "name": "stdout",
     "output_type": "stream",
     "text": [
      "1.0\n"
     ]
    }
   ],
   "source": [
    "reference = [['this', 'is', 'a', 'test'], ['this', 'is' 'test'], ['more', 'test']]\n",
    "candidate = ['this', 'is', 'a', 'test', 'test', 'more', 'world', 'hello']\n",
    "\n",
    "ref = [['this', 'is', 'a', 'test', 'more', 'test', 'hello', 'world']]\n",
    "\n",
    "score = sentence_bleu([refFinal], canFinal)\n",
    "print(score)"
   ]
  },
  {
   "cell_type": "code",
   "execution_count": 11,
   "metadata": {},
   "outputs": [],
   "source": [
    "data = LineSplit('./summary_worldwar2.txt')"
   ]
  },
  {
   "cell_type": "code",
   "execution_count": 14,
   "metadata": {},
   "outputs": [],
   "source": [
    "word = data[0].split(' ')"
   ]
  },
  {
   "cell_type": "code",
   "execution_count": 15,
   "metadata": {},
   "outputs": [
    {
     "data": {
      "text/plain": [
       "['World',\n",
       " 'War',\n",
       " 'II',\n",
       " '(often',\n",
       " 'abbreviated',\n",
       " 'to',\n",
       " 'WWII',\n",
       " 'or',\n",
       " 'WW2),',\n",
       " 'also',\n",
       " 'known',\n",
       " 'as',\n",
       " 'the',\n",
       " 'Second',\n",
       " 'World',\n",
       " 'War,',\n",
       " 'was',\n",
       " 'a',\n",
       " 'global',\n",
       " 'war',\n",
       " 'that',\n",
       " 'lasted',\n",
       " 'from',\n",
       " '1939',\n",
       " 'to',\n",
       " '1945']"
      ]
     },
     "execution_count": 15,
     "metadata": {},
     "output_type": "execute_result"
    }
   ],
   "source": [
    "word"
   ]
  },
  {
   "cell_type": "code",
   "execution_count": 19,
   "metadata": {},
   "outputs": [],
   "source": [
    "def wordSplit(data):\n",
    "    splitList = []\n",
    "    for item in data:\n",
    "        temp = item.split(' ')\n",
    "        splitList += temp\n",
    "    return splitList"
   ]
  },
  {
   "cell_type": "code",
   "execution_count": 20,
   "metadata": {},
   "outputs": [
    {
     "data": {
      "text/plain": [
       "['World',\n",
       " 'War',\n",
       " 'II',\n",
       " '(often',\n",
       " 'abbreviated',\n",
       " 'to',\n",
       " 'WWII',\n",
       " 'or',\n",
       " 'WW2),',\n",
       " 'also',\n",
       " 'known',\n",
       " 'as',\n",
       " 'the',\n",
       " 'Second',\n",
       " 'World',\n",
       " 'War,',\n",
       " 'was',\n",
       " 'a',\n",
       " 'global',\n",
       " 'war',\n",
       " 'that',\n",
       " 'lasted',\n",
       " 'from',\n",
       " '1939',\n",
       " 'to',\n",
       " '1945',\n",
       " 'A',\n",
       " 'state',\n",
       " 'of',\n",
       " 'total',\n",
       " 'war',\n",
       " 'emerged,',\n",
       " 'directly',\n",
       " 'involving',\n",
       " 'more',\n",
       " 'than',\n",
       " '100',\n",
       " 'million',\n",
       " 'people',\n",
       " 'from',\n",
       " 'over',\n",
       " '30',\n",
       " 'countries',\n",
       " 'World',\n",
       " 'War',\n",
       " 'II',\n",
       " 'was',\n",
       " 'the',\n",
       " 'deadliest',\n",
       " 'conflict',\n",
       " 'in',\n",
       " 'human',\n",
       " 'history,',\n",
       " 'marked',\n",
       " 'by',\n",
       " '70',\n",
       " 'to',\n",
       " '85',\n",
       " 'million',\n",
       " 'fatalities,',\n",
       " 'most',\n",
       " 'of',\n",
       " 'whom',\n",
       " 'were',\n",
       " 'civilians',\n",
       " 'in',\n",
       " 'the',\n",
       " 'Soviet',\n",
       " 'Union',\n",
       " 'and',\n",
       " 'China',\n",
       " 'Japan,',\n",
       " 'which',\n",
       " 'aimed',\n",
       " 'to',\n",
       " 'dominate',\n",
       " 'Asia',\n",
       " 'and',\n",
       " 'the',\n",
       " 'Pacific,',\n",
       " 'was',\n",
       " 'at',\n",
       " 'war',\n",
       " 'with',\n",
       " 'China',\n",
       " 'by',\n",
       " '1937,',\n",
       " 'though',\n",
       " 'neither',\n",
       " 'side',\n",
       " 'had',\n",
       " 'declared',\n",
       " 'war',\n",
       " 'on',\n",
       " 'the',\n",
       " 'other',\n",
       " 'The',\n",
       " 'vast',\n",
       " 'majority',\n",
       " 'of',\n",
       " 'the',\n",
       " \"world's\",\n",
       " 'countries—including',\n",
       " 'all',\n",
       " 'the',\n",
       " 'great',\n",
       " 'powers—eventually',\n",
       " 'formed',\n",
       " 'two',\n",
       " 'opposing',\n",
       " 'military',\n",
       " 'alliances:',\n",
       " 'the',\n",
       " 'Allies',\n",
       " 'and',\n",
       " 'the',\n",
       " 'Axis',\n",
       " 'The',\n",
       " 'major',\n",
       " 'participants',\n",
       " 'threw',\n",
       " 'their',\n",
       " 'entire',\n",
       " 'economic,',\n",
       " 'industrial,',\n",
       " 'and',\n",
       " 'scientific',\n",
       " 'capabilities',\n",
       " 'behind',\n",
       " 'the',\n",
       " 'war',\n",
       " 'effort,',\n",
       " 'blurring',\n",
       " 'the',\n",
       " 'distinction',\n",
       " 'between',\n",
       " 'civilian',\n",
       " 'and',\n",
       " 'military',\n",
       " 'resources',\n",
       " 'From',\n",
       " 'late',\n",
       " '1939',\n",
       " 'to',\n",
       " 'early',\n",
       " '1941,',\n",
       " 'in',\n",
       " 'a',\n",
       " 'series',\n",
       " 'of',\n",
       " 'campaigns',\n",
       " 'and',\n",
       " 'treaties,',\n",
       " 'Germany',\n",
       " 'conquered',\n",
       " 'or',\n",
       " 'controlled',\n",
       " 'much',\n",
       " 'of',\n",
       " 'continental',\n",
       " 'Europe,',\n",
       " 'and',\n",
       " 'formed',\n",
       " 'the',\n",
       " 'Axis',\n",
       " 'alliance',\n",
       " 'with',\n",
       " 'Italy',\n",
       " 'and',\n",
       " 'Japan',\n",
       " 'Under',\n",
       " 'the',\n",
       " 'Molotov–Ribbentrop',\n",
       " 'Pact',\n",
       " 'of',\n",
       " 'August',\n",
       " '1939,',\n",
       " 'Germany',\n",
       " 'and',\n",
       " 'the',\n",
       " 'Soviet',\n",
       " 'Union',\n",
       " 'partitioned',\n",
       " 'and',\n",
       " 'annexed',\n",
       " 'territories',\n",
       " 'of',\n",
       " 'their',\n",
       " 'European',\n",
       " 'neighbours,',\n",
       " 'Poland,',\n",
       " 'Finland,',\n",
       " 'Romania',\n",
       " 'and',\n",
       " 'the',\n",
       " 'Baltic',\n",
       " 'states',\n",
       " 'Following',\n",
       " 'the',\n",
       " 'onset',\n",
       " 'of',\n",
       " 'campaigns',\n",
       " 'in',\n",
       " 'North',\n",
       " 'Africa',\n",
       " 'and',\n",
       " 'East',\n",
       " 'Africa,',\n",
       " 'and',\n",
       " 'the',\n",
       " 'Fall',\n",
       " 'of',\n",
       " 'France',\n",
       " 'in',\n",
       " 'mid',\n",
       " '1940,',\n",
       " 'the',\n",
       " 'war',\n",
       " 'continued',\n",
       " 'primarily',\n",
       " 'between',\n",
       " 'the',\n",
       " 'European',\n",
       " 'Axis',\n",
       " 'powers',\n",
       " 'and',\n",
       " 'the',\n",
       " 'British',\n",
       " 'Empire',\n",
       " 'War',\n",
       " 'in',\n",
       " 'the',\n",
       " 'Balkans,',\n",
       " 'the',\n",
       " 'aerial',\n",
       " 'Battle',\n",
       " 'of',\n",
       " 'Britain,',\n",
       " 'the',\n",
       " 'Blitz,',\n",
       " 'and',\n",
       " 'the',\n",
       " 'long',\n",
       " 'Battle',\n",
       " 'of',\n",
       " 'the',\n",
       " 'Atlantic',\n",
       " 'followed',\n",
       " 'On',\n",
       " '22',\n",
       " 'June',\n",
       " '1941,',\n",
       " 'the',\n",
       " 'European',\n",
       " 'Axis',\n",
       " 'powers',\n",
       " 'launched',\n",
       " 'an',\n",
       " 'invasion',\n",
       " 'of',\n",
       " 'the',\n",
       " 'Soviet',\n",
       " 'Union,',\n",
       " 'opening',\n",
       " 'the',\n",
       " 'largest',\n",
       " 'land',\n",
       " 'theatre',\n",
       " 'of',\n",
       " 'war',\n",
       " 'in',\n",
       " 'history',\n",
       " 'The',\n",
       " 'United',\n",
       " 'Nations',\n",
       " '(UN)',\n",
       " 'was',\n",
       " 'established',\n",
       " 'to',\n",
       " 'foster',\n",
       " 'international',\n",
       " 'co-operation',\n",
       " 'and',\n",
       " 'prevent',\n",
       " 'future',\n",
       " 'conflicts;',\n",
       " 'the',\n",
       " 'victorious',\n",
       " 'great',\n",
       " 'powers—China,',\n",
       " 'France,',\n",
       " 'the',\n",
       " 'Soviet',\n",
       " 'Union,',\n",
       " 'the',\n",
       " 'United',\n",
       " 'Kingdom,',\n",
       " 'and',\n",
       " 'the',\n",
       " 'United',\n",
       " 'States—became',\n",
       " 'the',\n",
       " 'permanent',\n",
       " 'members',\n",
       " 'of',\n",
       " 'its',\n",
       " 'Security',\n",
       " 'Council',\n",
       " 'Political',\n",
       " 'integration,',\n",
       " 'especially',\n",
       " 'in',\n",
       " 'Europe,',\n",
       " 'emerged',\n",
       " 'as',\n",
       " 'an',\n",
       " 'effort',\n",
       " 'to',\n",
       " 'end',\n",
       " 'pre-war',\n",
       " 'enmities',\n",
       " 'and',\n",
       " 'create',\n",
       " 'a',\n",
       " 'common',\n",
       " 'identity',\n",
       " '']"
      ]
     },
     "execution_count": 20,
     "metadata": {},
     "output_type": "execute_result"
    }
   ],
   "source": [
    "wordSplit(LineSplit('./summary_worldwar2.txt'))"
   ]
  },
  {
   "cell_type": "code",
   "execution_count": 21,
   "metadata": {},
   "outputs": [
    {
     "data": {
      "text/plain": [
       "[1, 2, 3, 4, 5, 5]"
      ]
     },
     "execution_count": 21,
     "metadata": {},
     "output_type": "execute_result"
    }
   ],
   "source": [
    "lis = [1, 2, 3, 4, 5, 5, 5]\n",
    "lis.remove(5)\n",
    "lis"
   ]
  },
  {
   "cell_type": "code",
   "execution_count": 23,
   "metadata": {},
   "outputs": [
    {
     "data": {
      "text/plain": [
       "[1, 2, 3, 4, 5, 5, 'hello', 'world']"
      ]
     },
     "execution_count": 23,
     "metadata": {},
     "output_type": "execute_result"
    }
   ],
   "source": [
    "string = 'hello world'\n",
    "\n",
    "lis += string.split(' ')\n",
    "lis"
   ]
  },
  {
   "cell_type": "code",
   "execution_count": 35,
   "metadata": {},
   "outputs": [
    {
     "ename": "AssertionError",
     "evalue": "The number of hypotheses and their reference(s) should be the same ",
     "output_type": "error",
     "traceback": [
      "\u001b[1;31m---------------------------------------------------------------------------\u001b[0m",
      "\u001b[1;31mAssertionError\u001b[0m                            Traceback (most recent call last)",
      "\u001b[1;32m<ipython-input-35-b5601a7f2afe>\u001b[0m in \u001b[0;36m<module>\u001b[1;34m\u001b[0m\n\u001b[0;32m      3\u001b[0m \u001b[0mreferences\u001b[0m \u001b[1;33m=\u001b[0m \u001b[1;33m[\u001b[0m\u001b[1;33m[\u001b[0m\u001b[1;33m[\u001b[0m\u001b[1;34m'this'\u001b[0m\u001b[1;33m,\u001b[0m \u001b[1;34m'is'\u001b[0m\u001b[1;33m,\u001b[0m \u001b[1;34m'a'\u001b[0m\u001b[1;33m,\u001b[0m \u001b[1;34m'test'\u001b[0m\u001b[1;33m]\u001b[0m\u001b[1;33m,\u001b[0m \u001b[1;33m[\u001b[0m\u001b[1;34m'this'\u001b[0m\u001b[1;33m,\u001b[0m \u001b[1;34m'is'\u001b[0m \u001b[1;34m'test'\u001b[0m\u001b[1;33m]\u001b[0m\u001b[1;33m]\u001b[0m\u001b[1;33m]\u001b[0m\u001b[1;33m\u001b[0m\u001b[1;33m\u001b[0m\u001b[0m\n\u001b[0;32m      4\u001b[0m \u001b[0mcandidates\u001b[0m \u001b[1;33m=\u001b[0m \u001b[1;33m[\u001b[0m\u001b[1;33m[\u001b[0m\u001b[1;34m'this'\u001b[0m\u001b[1;33m,\u001b[0m \u001b[1;34m'is'\u001b[0m\u001b[1;33m,\u001b[0m \u001b[1;34m'a'\u001b[0m\u001b[1;33m,\u001b[0m \u001b[1;34m'test'\u001b[0m\u001b[1;33m]\u001b[0m\u001b[1;33m,\u001b[0m \u001b[1;33m[\u001b[0m\u001b[1;34m'this'\u001b[0m\u001b[1;33m,\u001b[0m \u001b[1;34m'is'\u001b[0m\u001b[1;33m,\u001b[0m \u001b[1;34m'test'\u001b[0m\u001b[1;33m]\u001b[0m\u001b[1;33m]\u001b[0m\u001b[1;33m\u001b[0m\u001b[1;33m\u001b[0m\u001b[0m\n\u001b[1;32m----> 5\u001b[1;33m \u001b[0mscore\u001b[0m \u001b[1;33m=\u001b[0m \u001b[0mcorpus_bleu\u001b[0m\u001b[1;33m(\u001b[0m\u001b[0mreferences\u001b[0m\u001b[1;33m,\u001b[0m \u001b[0mcandidates\u001b[0m\u001b[1;33m)\u001b[0m\u001b[1;33m\u001b[0m\u001b[1;33m\u001b[0m\u001b[0m\n\u001b[0m\u001b[0;32m      6\u001b[0m \u001b[0mprint\u001b[0m\u001b[1;33m(\u001b[0m\u001b[0mscore\u001b[0m\u001b[1;33m)\u001b[0m\u001b[1;33m\u001b[0m\u001b[1;33m\u001b[0m\u001b[0m\n",
      "\u001b[1;32m~\\Anaconda3\\lib\\site-packages\\nltk\\translate\\bleu_score.py\u001b[0m in \u001b[0;36mcorpus_bleu\u001b[1;34m(list_of_references, hypotheses, weights, smoothing_function, auto_reweigh)\u001b[0m\n\u001b[0;32m    175\u001b[0m \u001b[1;33m\u001b[0m\u001b[0m\n\u001b[0;32m    176\u001b[0m     assert len(list_of_references) == len(hypotheses), (\n\u001b[1;32m--> 177\u001b[1;33m         \u001b[1;34m\"The number of hypotheses and their reference(s) should be the \"\u001b[0m \u001b[1;34m\"same \"\u001b[0m\u001b[1;33m\u001b[0m\u001b[1;33m\u001b[0m\u001b[0m\n\u001b[0m\u001b[0;32m    178\u001b[0m     )\n\u001b[0;32m    179\u001b[0m \u001b[1;33m\u001b[0m\u001b[0m\n",
      "\u001b[1;31mAssertionError\u001b[0m: The number of hypotheses and their reference(s) should be the same "
     ]
    }
   ],
   "source": [
    "# two references for one document\n",
    "from nltk.translate.bleu_score import corpus_bleu\n",
    "references = [[['this', 'is', 'a', 'test'], ['this', 'is' 'test']]]\n",
    "candidates = [['this', 'is', 'a', 'test'], ['this', 'is', 'test']]\n",
    "score = corpus_bleu(references, candidates)\n",
    "print(score)"
   ]
  },
  {
   "cell_type": "code",
   "execution_count": null,
   "metadata": {},
   "outputs": [],
   "source": []
  }
 ],
 "metadata": {
  "kernelspec": {
   "display_name": "Python 3",
   "language": "python",
   "name": "python3"
  },
  "language_info": {
   "codemirror_mode": {
    "name": "ipython",
    "version": 3
   },
   "file_extension": ".py",
   "mimetype": "text/x-python",
   "name": "python",
   "nbconvert_exporter": "python",
   "pygments_lexer": "ipython3",
   "version": "3.6.9"
  }
 },
 "nbformat": 4,
 "nbformat_minor": 2
}
