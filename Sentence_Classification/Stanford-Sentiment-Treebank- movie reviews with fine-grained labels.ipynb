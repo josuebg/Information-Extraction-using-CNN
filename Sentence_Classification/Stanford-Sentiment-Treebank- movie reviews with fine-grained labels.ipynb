{
 "cells": [
  {
   "cell_type": "code",
   "execution_count": 1,
   "metadata": {},
   "outputs": [
    {
     "name": "stderr",
     "output_type": "stream",
     "text": [
      "Using TensorFlow backend.\n"
     ]
    }
   ],
   "source": [
    "import os\n",
    "import random\n",
    "import numpy as np\n",
    "\n",
    "from collections import namedtuple\n",
    "\n",
    "from sklearn.preprocessing import LabelEncoder\n",
    "\n",
    "from keras.preprocessing.text import Tokenizer\n",
    "from keras.preprocessing.sequence import pad_sequences\n",
    "from keras.utils import to_categorical"
   ]
  },
  {
   "cell_type": "markdown",
   "metadata": {},
   "source": [
    "# Stanford Sentiment Treebank - movie reviews with fine-grained labels"
   ]
  },
  {
   "cell_type": "code",
   "execution_count": 2,
   "metadata": {},
   "outputs": [],
   "source": [
    "# Stanford Sentiment Treebank - movie reviews with fine-grained labels\n",
    "# https://nlp.stanford.edu/sentiment/\n",
    "\n",
    "ST_sentence = namedtuple(\"Stanford_Sentiment\", \"id sentence\")\n",
    "ST_score = namedtuple(\"Stanford_Sentiment\", \"id score\")\n",
    "\n",
    "sentences = dict()\n",
    "scores = dict()\n",
    "train = []\n",
    "dev = []\n",
    "test = []\n",
    "\n",
    "for filename in ['datasetSentences.txt','datasetSplit.txt', 'sentiment_labels.txt']:\n",
    "    with open(\"ST/\"+filename,'r') as f_input:\n",
    "        for line in f_input:\n",
    "            \n",
    "            # skip headers\n",
    "            if line.startswith(\"sentence_index\") or line.startswith('phrase id'):\n",
    "                continue\n",
    "            \n",
    "            # load sentences\n",
    "            if filename=='datasetSentences.txt':                                \n",
    "                sent_id, sentence = line.split('\\t', 1)\n",
    "                sentences[sent_id] = sentence.strip()\n",
    "            \n",
    "            # load splits\n",
    "            if filename=='datasetSplit.txt':\n",
    "                sent_id, split = line.split(',', 1)\n",
    "                split = int(split.strip())\n",
    "                if split == 1:                    \n",
    "                    train.append(sent_id)\n",
    "                if split == 2:                                        \n",
    "                    test.append(sent_id)\n",
    "                if split == 3:\n",
    "                    dev.append(sent_id)\n",
    "            \n",
    "            # sentences_id        \n",
    "            if filename=='sentiment_labels.txt':                    \n",
    "                sent_id, sent_score = line.split('|', 1)\n",
    "                #sent_score = float(sent_score.strip())\n",
    "                sample = ST_score(sent_id, float(sent_score.strip()))\n",
    "                scores[sent_id] = sent_score.strip()"
   ]
  },
  {
   "cell_type": "markdown",
   "metadata": {
    "collapsed": true
   },
   "source": [
    "# Samples and Classes/Labels"
   ]
  },
  {
   "cell_type": "code",
   "execution_count": 3,
   "metadata": {},
   "outputs": [
    {
     "name": "stdout",
     "output_type": "stream",
     "text": [
      "Total Nr. Samples: 11855\n",
      "Total Nr. Scores : 239232\n",
      "\n",
      "Train  : 8544\n",
      "Dev    : 1101\n",
      "Test   : 2210\n"
     ]
    }
   ],
   "source": [
    "print(\"Total Nr. Samples: {}\".format(len(sentences)))\n",
    "print(\"Total Nr. Scores : {}\".format(len(scores)))\n",
    "print()\n",
    "print(\"Train  : {}\".format(len(train)))\n",
    "print(\"Dev    : {}\".format(len(dev)))\n",
    "print(\"Test   : {}\".format(len(test)))"
   ]
  },
  {
   "cell_type": "code",
   "execution_count": 4,
   "metadata": {},
   "outputs": [],
   "source": [
    "# built two lists with sentences and labels\n",
    "x_train_data = [sentences[x] for x in train]\n",
    "y_train_data = [scores[x] for x in train]\n",
    "\n",
    "x_dev_data = [sentences[x] for x in dev]\n",
    "y_dev_data = [scores[x] for x in dev]\n",
    "\n",
    "x_test_data = [sentences[x] for x in test]\n",
    "y_test_data = [scores[x] for x in test]"
   ]
  },
  {
   "cell_type": "code",
   "execution_count": 5,
   "metadata": {},
   "outputs": [
    {
     "name": "stdout",
     "output_type": "stream",
     "text": [
      "Found 15337 unique tokens.\n"
     ]
    }
   ],
   "source": [
    "# convert list of tokens/words to indexes\n",
    "tokenizer = Tokenizer()\n",
    "tokenizer.fit_on_texts(x_train_data)\n",
    "sequences_train = tokenizer.texts_to_sequences(x_train_data)\n",
    "word_index = tokenizer.word_index\n",
    "print('Found %s unique tokens.' % len(word_index))"
   ]
  },
  {
   "cell_type": "code",
   "execution_count": 6,
   "metadata": {},
   "outputs": [
    {
     "data": {
      "text/plain": [
       "49"
      ]
     },
     "execution_count": 6,
     "metadata": {},
     "output_type": "execute_result"
    }
   ],
   "source": [
    "# get the max sentence lenght, needed for padding\n",
    "max_input_lenght = max([len(x) for x in sequences_train])\n",
    "max_input_lenght"
   ]
  },
  {
   "cell_type": "code",
   "execution_count": 7,
   "metadata": {},
   "outputs": [],
   "source": [
    "# pad all the sequences of indexes to the 'max_input_lenght'\n",
    "x_train_data_padded = pad_sequences(sequences_train, maxlen=max_input_lenght, padding='post', truncating='post')\n",
    "x_dev_data_padded = pad_sequences(tokenizer.texts_to_sequences(x_dev_data), maxlen=max_input_lenght, padding='post', truncating='post')\n",
    "x_test_data_padded = pad_sequences(tokenizer.texts_to_sequences(x_test_data), maxlen=max_input_lenght, padding='post', truncating='post')"
   ]
  },
  {
   "cell_type": "markdown",
   "metadata": {},
   "source": [
    "## Transform scores to classes as re-labeled by Socher et al. (2013)\n",
    "- 0 - 2.0    : very negative\n",
    "- 2.0 - 4.0  : negative\n",
    "- 4.0 - 6.0  : neutral\n",
    "- 6.0 - 8.0  : negative\n",
    "- 8.0 - 10.0 : very positive"
   ]
  },
  {
   "cell_type": "code",
   "execution_count": 8,
   "metadata": {},
   "outputs": [],
   "source": [
    "def convert_to_categories(y_data):\n",
    "    y_categories = []\n",
    "    for score in y_data:\n",
    "        if 0.0<=float(score)<0.2:\n",
    "            y_categories.append('very_negative')\n",
    "        elif 0.2<=float(score)<0.4:\n",
    "            y_categories.append('negative')\n",
    "        elif 0.4<=float(score)<0.6:\n",
    "            y_categories.append('neutral')\n",
    "        elif 0.6<=float(score)<0.8:\n",
    "            y_categories.append('positive')\n",
    "        elif 0.8<=float(score)<=1.0:\n",
    "            y_categories.append('very positive')\n",
    "            \n",
    "    return y_categories"
   ]
  },
  {
   "cell_type": "code",
   "execution_count": 9,
   "metadata": {},
   "outputs": [],
   "source": [
    "# Convert from scores to categories\n",
    "y_train_data_categ = convert_to_categories(y_train_data)\n",
    "y_dev_data_categ = convert_to_categories(y_dev_data)\n",
    "y_test_data_categ = convert_to_categories(y_test_data)\n",
    "\n",
    "# Encode the labels, each must be a vector with dim = num. of possible labels\n",
    "le = LabelEncoder()\n",
    "le.fit(y_train_data_categ)\n",
    "\n",
    "labels_encoded_train = le.transform(y_train_data_categ)\n",
    "labels_encoded_dev = le.transform(y_dev_data_categ)\n",
    "labels_encoded_test = le.transform(y_test_data_categ)\n",
    "\n",
    "categorical_labels_train = to_categorical(labels_encoded_train, num_classes=None)\n",
    "categorical_labels_dev = to_categorical(labels_encoded_dev, num_classes=None)\n",
    "categorical_labels_test = to_categorical(labels_encoded_test, num_classes=None)"
   ]
  },
  {
   "cell_type": "code",
   "execution_count": 10,
   "metadata": {},
   "outputs": [
    {
     "name": "stdout",
     "output_type": "stream",
     "text": [
      "(8544, 49)\n",
      "(8544, 5)\n"
     ]
    }
   ],
   "source": [
    "print(x_train_data_padded.shape)\n",
    "print(categorical_labels_train.shape)"
   ]
  },
  {
   "cell_type": "code",
   "execution_count": 11,
   "metadata": {},
   "outputs": [
    {
     "name": "stdout",
     "output_type": "stream",
     "text": [
      "(1101, 49)\n",
      "(1101,)\n"
     ]
    }
   ],
   "source": [
    "print(x_dev_data_padded.shape)\n",
    "print(labels_encoded_dev.shape)"
   ]
  },
  {
   "cell_type": "code",
   "execution_count": 12,
   "metadata": {
    "scrolled": true
   },
   "outputs": [
    {
     "name": "stdout",
     "output_type": "stream",
     "text": [
      "(2210, 49)\n",
      "(2210, 5)\n"
     ]
    }
   ],
   "source": [
    "print(x_test_data_padded.shape)\n",
    "print(categorical_labels_test.shape)"
   ]
  },
  {
   "cell_type": "code",
   "execution_count": 13,
   "metadata": {},
   "outputs": [],
   "source": [
    "from convnets_utils import *"
   ]
  },
  {
   "cell_type": "markdown",
   "metadata": {},
   "source": [
    "# CNN with random word embeddings"
   ]
  },
  {
   "cell_type": "code",
   "execution_count": 14,
   "metadata": {},
   "outputs": [
    {
     "name": "stdout",
     "output_type": "stream",
     "text": [
      "WARNING:tensorflow:From C:\\Users\\Xenon\\Anaconda3\\lib\\site-packages\\tensorflow\\python\\framework\\op_def_library.py:263: colocate_with (from tensorflow.python.framework.ops) is deprecated and will be removed in a future version.\n",
      "Instructions for updating:\n",
      "Colocations handled automatically by placer.\n",
      "WARNING:tensorflow:From C:\\Users\\Xenon\\Anaconda3\\lib\\site-packages\\keras\\backend\\tensorflow_backend.py:3144: calling dropout (from tensorflow.python.ops.nn_ops) with keep_prob is deprecated and will be removed in a future version.\n",
      "Instructions for updating:\n",
      "Please use `rate` instead of `keep_prob`. Rate should be set to `rate = 1 - keep_prob`.\n"
     ]
    }
   ],
   "source": [
    "model_1 = get_cnn_rand(200, len(word_index)+1, max_input_lenght, 5)"
   ]
  },
  {
   "cell_type": "code",
   "execution_count": 15,
   "metadata": {},
   "outputs": [
    {
     "name": "stdout",
     "output_type": "stream",
     "text": [
      "WARNING:tensorflow:From C:\\Users\\Xenon\\Anaconda3\\lib\\site-packages\\tensorflow\\python\\ops\\math_ops.py:3066: to_int32 (from tensorflow.python.ops.math_ops) is deprecated and will be removed in a future version.\n",
      "Instructions for updating:\n",
      "Use tf.cast instead.\n",
      "Epoch 1/15\n",
      "8544/8544 [==============================] - 28s 3ms/step - loss: 0.4455 - acc: 0.8028\n",
      "Epoch 2/15\n",
      "8544/8544 [==============================] - 24s 3ms/step - loss: 0.4185 - acc: 0.8109\n",
      "Epoch 3/15\n",
      "8544/8544 [==============================] - 24s 3ms/step - loss: 0.4163 - acc: 0.8126: 3s - loss\n",
      "Epoch 4/15\n",
      "8544/8544 [==============================] - 23s 3ms/step - loss: 0.4134 - acc: 0.8143\n",
      "Epoch 5/15\n",
      "8544/8544 [==============================] - 24s 3ms/step - loss: 0.4104 - acc: 0.8150\n",
      "Epoch 6/15\n",
      "8544/8544 [==============================] - 24s 3ms/step - loss: 0.4054 - acc: 0.8195\n",
      "Epoch 7/15\n",
      "8544/8544 [==============================] - 24s 3ms/step - loss: 0.3994 - acc: 0.8236\n",
      "Epoch 8/15\n",
      "8544/8544 [==============================] - 23s 3ms/step - loss: 0.3871 - acc: 0.8349\n",
      "Epoch 9/15\n",
      "8544/8544 [==============================] - 24s 3ms/step - loss: 0.3746 - acc: 0.8427\n",
      "Epoch 10/15\n",
      "8544/8544 [==============================] - 26s 3ms/step - loss: 0.3554 - acc: 0.8520\n",
      "Epoch 11/15\n",
      "8544/8544 [==============================] - 24s 3ms/step - loss: 0.3341 - acc: 0.8618\n",
      "Epoch 12/15\n",
      "8544/8544 [==============================] - 24s 3ms/step - loss: 0.3153 - acc: 0.8689\n",
      "Epoch 13/15\n",
      "8544/8544 [==============================] - 24s 3ms/step - loss: 0.2945 - acc: 0.8778\n",
      "Epoch 14/15\n",
      "8544/8544 [==============================] - 23s 3ms/step - loss: 0.2741 - acc: 0.8860\n",
      "Epoch 15/15\n",
      "8544/8544 [==============================] - 24s 3ms/step - loss: 0.2571 - acc: 0.8948\n"
     ]
    }
   ],
   "source": [
    "history = model_1.fit(x=x_train_data_padded, y=categorical_labels_train, batch_size=50, epochs=15)"
   ]
  },
  {
   "cell_type": "code",
   "execution_count": 16,
   "metadata": {},
   "outputs": [
    {
     "data": {
      "text/plain": [
       "0.8002714871820821"
      ]
     },
     "execution_count": 16,
     "metadata": {},
     "output_type": "execute_result"
    }
   ],
   "source": [
    "loss, accuracy = model_1.evaluate(x_test_data_padded, categorical_labels_test, verbose=0)\n",
    "accuracy"
   ]
  },
  {
   "cell_type": "code",
   "execution_count": 17,
   "metadata": {},
   "outputs": [
    {
     "name": "stdout",
     "output_type": "stream",
     "text": [
      "               precision    recall  f1-score   support\n",
      "\n",
      "     negative       0.19      0.19      0.19       405\n",
      "      neutral       0.52      0.67      0.59      1155\n",
      "     positive       0.16      0.12      0.14       424\n",
      "very positive       0.00      0.00      0.00       112\n",
      "very_negative       0.00      0.00      0.00       114\n",
      "\n",
      "     accuracy                           0.41      2210\n",
      "    macro avg       0.18      0.20      0.18      2210\n",
      " weighted avg       0.34      0.41      0.37      2210\n",
      "\n"
     ]
    },
    {
     "name": "stderr",
     "output_type": "stream",
     "text": [
      "C:\\Users\\Xenon\\Anaconda3\\lib\\site-packages\\sklearn\\metrics\\classification.py:1437: UndefinedMetricWarning: Precision and F-score are ill-defined and being set to 0.0 in labels with no predicted samples.\n",
      "  'precision', 'predicted', average, warn_for)\n"
     ]
    }
   ],
   "source": [
    "raw_predictions = model_1.predict(x_test_data_padded)\n",
    "class_predictions = [np.argmax(x) for x in raw_predictions]\n",
    "print(classification_report(y_test_data_categ, le.inverse_transform(class_predictions)))"
   ]
  },
  {
   "cell_type": "markdown",
   "metadata": {},
   "source": [
    "# CNN with pre-trained static word embeddings"
   ]
  },
  {
   "cell_type": "code",
   "execution_count": 18,
   "metadata": {},
   "outputs": [
    {
     "ename": "FileNotFoundError",
     "evalue": "[Errno 2] No such file or directory: '/Users/dsbatista/resources/glove.6B\\\\glove.6B.100d.txt'",
     "output_type": "error",
     "traceback": [
      "\u001b[1;31m---------------------------------------------------------------------------\u001b[0m",
      "\u001b[1;31mFileNotFoundError\u001b[0m                         Traceback (most recent call last)",
      "\u001b[1;32m<ipython-input-18-33bbbacf9809>\u001b[0m in \u001b[0;36m<module>\u001b[1;34m\u001b[0m\n\u001b[1;32m----> 1\u001b[1;33m \u001b[0membeddings_index\u001b[0m \u001b[1;33m=\u001b[0m \u001b[0mload_fasttext_embeddings\u001b[0m\u001b[1;33m(\u001b[0m\u001b[1;33m)\u001b[0m\u001b[1;33m\u001b[0m\u001b[1;33m\u001b[0m\u001b[0m\n\u001b[0m\u001b[0;32m      2\u001b[0m \u001b[0membeddings_matrix\u001b[0m \u001b[1;33m=\u001b[0m \u001b[0mcreate_embeddings_matrix\u001b[0m\u001b[1;33m(\u001b[0m\u001b[0membeddings_index\u001b[0m\u001b[1;33m,\u001b[0m \u001b[0mword_index\u001b[0m\u001b[1;33m,\u001b[0m \u001b[1;36m100\u001b[0m\u001b[1;33m)\u001b[0m\u001b[1;33m\u001b[0m\u001b[1;33m\u001b[0m\u001b[0m\n\u001b[0;32m      3\u001b[0m \u001b[0membedding_layer_static\u001b[0m \u001b[1;33m=\u001b[0m \u001b[0mget_embeddings_layer\u001b[0m\u001b[1;33m(\u001b[0m\u001b[0membeddings_matrix\u001b[0m\u001b[1;33m,\u001b[0m \u001b[1;34m'embedding_layer_static'\u001b[0m\u001b[1;33m,\u001b[0m \u001b[0mmax_input_lenght\u001b[0m\u001b[1;33m,\u001b[0m \u001b[0mtrainable\u001b[0m\u001b[1;33m=\u001b[0m\u001b[1;32mFalse\u001b[0m\u001b[1;33m)\u001b[0m\u001b[1;33m\u001b[0m\u001b[1;33m\u001b[0m\u001b[0m\n\u001b[0;32m      4\u001b[0m \u001b[0mmodel_2\u001b[0m \u001b[1;33m=\u001b[0m \u001b[0mget_cnn_pre_trained_embeddings\u001b[0m\u001b[1;33m(\u001b[0m\u001b[0membedding_layer_static\u001b[0m\u001b[1;33m,\u001b[0m \u001b[0mmax_input_lenght\u001b[0m\u001b[1;33m,\u001b[0m \u001b[1;36m5\u001b[0m\u001b[1;33m)\u001b[0m\u001b[1;33m\u001b[0m\u001b[1;33m\u001b[0m\u001b[0m\n",
      "\u001b[1;32mD:\\Xenon\\Study_Stuffs\\Projects\\Information Extraction using CNN\\convnets_utils.py\u001b[0m in \u001b[0;36mload_fasttext_embeddings\u001b[1;34m()\u001b[0m\n\u001b[0;32m     28\u001b[0m     \u001b[0mglove_dir\u001b[0m \u001b[1;33m=\u001b[0m \u001b[1;34m'/Users/dsbatista/resources/glove.6B'\u001b[0m\u001b[1;33m\u001b[0m\u001b[1;33m\u001b[0m\u001b[0m\n\u001b[0;32m     29\u001b[0m     \u001b[0membeddings_index\u001b[0m \u001b[1;33m=\u001b[0m \u001b[1;33m{\u001b[0m\u001b[1;33m}\u001b[0m\u001b[1;33m\u001b[0m\u001b[1;33m\u001b[0m\u001b[0m\n\u001b[1;32m---> 30\u001b[1;33m     \u001b[0mf\u001b[0m \u001b[1;33m=\u001b[0m \u001b[0mopen\u001b[0m\u001b[1;33m(\u001b[0m\u001b[0mos\u001b[0m\u001b[1;33m.\u001b[0m\u001b[0mpath\u001b[0m\u001b[1;33m.\u001b[0m\u001b[0mjoin\u001b[0m\u001b[1;33m(\u001b[0m\u001b[0mglove_dir\u001b[0m\u001b[1;33m,\u001b[0m \u001b[1;34m'glove.6B.100d.txt'\u001b[0m\u001b[1;33m)\u001b[0m\u001b[1;33m)\u001b[0m\u001b[1;33m\u001b[0m\u001b[1;33m\u001b[0m\u001b[0m\n\u001b[0m\u001b[0;32m     31\u001b[0m     \u001b[1;32mfor\u001b[0m \u001b[0mline\u001b[0m \u001b[1;32min\u001b[0m \u001b[0mf\u001b[0m\u001b[1;33m:\u001b[0m\u001b[1;33m\u001b[0m\u001b[1;33m\u001b[0m\u001b[0m\n\u001b[0;32m     32\u001b[0m         \u001b[0mvalues\u001b[0m \u001b[1;33m=\u001b[0m \u001b[0mline\u001b[0m\u001b[1;33m.\u001b[0m\u001b[0msplit\u001b[0m\u001b[1;33m(\u001b[0m\u001b[1;33m)\u001b[0m\u001b[1;33m\u001b[0m\u001b[1;33m\u001b[0m\u001b[0m\n",
      "\u001b[1;31mFileNotFoundError\u001b[0m: [Errno 2] No such file or directory: '/Users/dsbatista/resources/glove.6B\\\\glove.6B.100d.txt'"
     ]
    }
   ],
   "source": [
    "embeddings_index = load_fasttext_embeddings()\n",
    "embeddings_matrix = create_embeddings_matrix(embeddings_index, word_index, 100)\n",
    "embedding_layer_static = get_embeddings_layer(embeddings_matrix, 'embedding_layer_static', max_input_lenght, trainable=False)\n",
    "model_2 = get_cnn_pre_trained_embeddings(embedding_layer_static, max_input_lenght, 5)"
   ]
  },
  {
   "cell_type": "code",
   "execution_count": null,
   "metadata": {},
   "outputs": [],
   "source": [
    "history = model_2.fit(x=x_train_data_padded, y=categorical_labels_train, batch_size=50, epochs=15)"
   ]
  },
  {
   "cell_type": "code",
   "execution_count": null,
   "metadata": {},
   "outputs": [],
   "source": [
    "loss, accuracy = model_2.evaluate(x_test_data_padded, categorical_labels_test, verbose=0)\n",
    "accuracy"
   ]
  },
  {
   "cell_type": "code",
   "execution_count": null,
   "metadata": {},
   "outputs": [],
   "source": [
    "raw_predictions = model_2.predict(x_test_data_padded)\n",
    "class_predictions = [np.argmax(x) for x in raw_predictions]\n",
    "print(classification_report(y_test_data_categ, le.inverse_transform(class_predictions)))"
   ]
  },
  {
   "cell_type": "markdown",
   "metadata": {},
   "source": [
    "# CNN with pre-trained dynamic word embeddings"
   ]
  },
  {
   "cell_type": "code",
   "execution_count": null,
   "metadata": {},
   "outputs": [],
   "source": [
    "embedding_layer_dynamic = get_embeddings_layer(embeddings_matrix, 'embedding_layer_dynamic', \n",
    "                                               max_input_lenght, trainable=True)\n",
    "\n",
    "model_3 = get_cnn_pre_trained_embeddings(embedding_layer_dynamic, max_input_lenght, 5)"
   ]
  },
  {
   "cell_type": "code",
   "execution_count": null,
   "metadata": {
    "scrolled": true
   },
   "outputs": [],
   "source": [
    "history = model_3.fit(x=x_train_data_padded, y=categorical_labels_train, \n",
    "                      batch_size=50, \n",
    "                      epochs=5)"
   ]
  },
  {
   "cell_type": "code",
   "execution_count": null,
   "metadata": {},
   "outputs": [],
   "source": [
    "loss, accuracy = model_3.evaluate(x_test_data_padded, categorical_labels_test, verbose=0)\n",
    "accuracy"
   ]
  },
  {
   "cell_type": "code",
   "execution_count": null,
   "metadata": {},
   "outputs": [],
   "source": [
    "raw_predictions = model_3.predict(x_test_data_padded)\n",
    "class_predictions = [np.argmax(x) for x in raw_predictions]\n",
    "print(classification_report(y_test_data_categ, le.inverse_transform(class_predictions)))"
   ]
  },
  {
   "cell_type": "markdown",
   "metadata": {},
   "source": [
    "# CNN multichanell with pre-trained dynamic and static word embeddings"
   ]
  },
  {
   "cell_type": "code",
   "execution_count": null,
   "metadata": {},
   "outputs": [],
   "source": [
    "model_4 = get_cnn_multichannel(embedding_layer_static, embedding_layer_dynamic, max_input_lenght, 5)"
   ]
  },
  {
   "cell_type": "code",
   "execution_count": null,
   "metadata": {},
   "outputs": [],
   "source": [
    "history = model_4.fit(x=[x_train_data_padded,x_train_data_padded], y=categorical_labels_train, \n",
    "                      batch_size=50, \n",
    "                      epochs=5,\n",
    "                      validation_split=0.33)"
   ]
  },
  {
   "cell_type": "code",
   "execution_count": null,
   "metadata": {},
   "outputs": [],
   "source": [
    "loss, accuracy = model_4.evaluate(x=[x_test_data_padded,x_test_data_padded], y=categorical_labels_test, verbose=0)\n",
    "accuracy"
   ]
  },
  {
   "cell_type": "code",
   "execution_count": null,
   "metadata": {},
   "outputs": [],
   "source": [
    "raw_predictions = model_4.predict(x=[x_test_data_padded,x_test_data_padded])\n",
    "class_predictions = [np.argmax(x) for x in raw_predictions]\n",
    "print(classification_report(y_test_data_categ, le.inverse_transform(class_predictions)))"
   ]
  },
  {
   "cell_type": "code",
   "execution_count": null,
   "metadata": {},
   "outputs": [],
   "source": []
  },
  {
   "cell_type": "code",
   "execution_count": null,
   "metadata": {},
   "outputs": [],
   "source": []
  },
  {
   "cell_type": "code",
   "execution_count": null,
   "metadata": {},
   "outputs": [],
   "source": []
  }
 ],
 "metadata": {
  "kernelspec": {
   "display_name": "Python 3",
   "language": "python",
   "name": "python3"
  },
  "language_info": {
   "codemirror_mode": {
    "name": "ipython",
    "version": 3
   },
   "file_extension": ".py",
   "mimetype": "text/x-python",
   "name": "python",
   "nbconvert_exporter": "python",
   "pygments_lexer": "ipython3",
   "version": "3.6.8"
  }
 },
 "nbformat": 4,
 "nbformat_minor": 2
}
