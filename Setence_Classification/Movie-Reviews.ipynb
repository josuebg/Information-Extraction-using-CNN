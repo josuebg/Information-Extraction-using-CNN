{
 "cells": [
  {
   "cell_type": "code",
   "execution_count": 1,
   "metadata": {},
   "outputs": [
    {
     "name": "stderr",
     "output_type": "stream",
     "text": [
      "Using TensorFlow backend.\n"
     ]
    }
   ],
   "source": [
    "import os\n",
    "import random\n",
    "import numpy as np\n",
    "\n",
    "from collections import namedtuple\n",
    "\n",
    "from sklearn.preprocessing import LabelEncoder\n",
    "\n",
    "from keras.preprocessing.text import Tokenizer\n",
    "from keras.preprocessing.sequence import pad_sequences\n",
    "from keras.utils import to_categorical"
   ]
  },
  {
   "cell_type": "markdown",
   "metadata": {},
   "source": [
    "# Movie reviews with one sentence per review"
   ]
  },
  {
   "cell_type": "code",
   "execution_count": 2,
   "metadata": {
    "scrolled": false
   },
   "outputs": [],
   "source": [
    "# Movie reviews with one sentence per review.\n",
    "# https://www.cs.cornell.edu/people/pabo/movie-review-data/\n",
    "\n",
    "# fold 1: files tagged cv000 through cv099, in numerical order\n",
    "# fold 2: files tagged cv100 through cv199, in numerical order\n",
    "# fold 10: files tagged cv900 through cv999, in numerical order\n",
    "\n",
    "x_folds = [list() for _ in range(10)]\n",
    "y_folds = [list() for _ in range(10)]\n",
    "\n",
    "for directory in ['MR/txt_sentoken/pos/','MR/txt_sentoken/neg/'] :\n",
    "    for filename in os.listdir(directory) + os.listdir(directory):\n",
    "        label = directory.split(\"/\")[-2]        \n",
    "        fold = int(filename.split(\"_\")[0][2])\n",
    "        with open(directory+filename,'r') as f_input:\n",
    "            for line in f_input:\n",
    "                x_folds[fold].append(line.strip())\n",
    "                y_folds[fold].append(label)"
   ]
  },
  {
   "cell_type": "code",
   "execution_count": 3,
   "metadata": {},
   "outputs": [
    {
     "name": "stdout",
     "output_type": "stream",
     "text": [
      "Found 43296 unique tokens.\n"
     ]
    }
   ],
   "source": [
    "# convert list of tokens/words to indexes\n",
    "x_all = [sentence for fold in x_folds for sentence in fold]\n",
    "\n",
    "tokenizer = Tokenizer()\n",
    "tokenizer.fit_on_texts(x_all)\n",
    "sequences_train = tokenizer.texts_to_sequences(x_all)\n",
    "word_index = tokenizer.word_index\n",
    "print('Found %s unique tokens.' % len(word_index))"
   ]
  },
  {
   "cell_type": "code",
   "execution_count": 4,
   "metadata": {},
   "outputs": [
    {
     "name": "stdout",
     "output_type": "stream",
     "text": [
      "Max. sequence lenght:  887\n"
     ]
    }
   ],
   "source": [
    "# get the max sentence lenght, needed for padding\n",
    "max_input_lenght = max([len(x) for x in x_all])\n",
    "print(\"Max. sequence lenght: \", max_input_lenght)"
   ]
  },
  {
   "cell_type": "code",
   "execution_count": 5,
   "metadata": {},
   "outputs": [],
   "source": [
    "# pad all the sequences of indexes to the 'max_input_lenght'\n",
    "x_folds_padded = []\n",
    "for fold in x_folds:\n",
    "    tokenized_fold = tokenizer.texts_to_sequences(fold)\n",
    "    x_folds_padded.append(pad_sequences(tokenized_fold, maxlen=max_input_lenght, padding='post', truncating='post'))"
   ]
  },
  {
   "cell_type": "code",
   "execution_count": 102,
   "metadata": {},
   "outputs": [],
   "source": [
    "# Encode the labels, each must be a vector with dim = num. of possible labels\n",
    "le = LabelEncoder()\n",
    "le.fit(y_folds[0])\n",
    "\n",
    "y_folds_categ = []\n",
    "\n",
    "for y_fold in y_folds:\n",
    "    y_categ = le.transform(y_fold)\n",
    "    y_folds_categ.append(to_categorical(y_categ, num_classes=None))"
   ]
  }
 ],
 "metadata": {
  "kernelspec": {
   "display_name": "Python 3",
   "language": "python",
   "name": "python3"
  },
  "language_info": {
   "codemirror_mode": {
    "name": "ipython",
    "version": 3
   },
   "file_extension": ".py",
   "mimetype": "text/x-python",
   "name": "python",
   "nbconvert_exporter": "python",
   "pygments_lexer": "ipython3",
   "version": "3.6.5"
  }
 },
 "nbformat": 4,
 "nbformat_minor": 2
}
